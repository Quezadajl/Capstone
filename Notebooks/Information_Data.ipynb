{
 "cells": [
  {
   "cell_type": "code",
   "execution_count": 3,
   "id": "0befaf99",
   "metadata": {},
   "outputs": [],
   "source": [
    "import requests\n",
    "import json\n",
    "import prettytable\n",
    "import os\n",
    "import pandas as pd\n",
    "import dtale\n",
    "import plotly.express as px \n",
    "import numpy as np\n",
    "import matplotlib.pyplot as plt\n",
    "import seaborn as sns\n",
    "%matplotlib inline\n",
    "import re\n",
    "import time\n",
    "from datetime import datetime\n",
    "import matplotlib.dates as mdates\n",
    "import matplotlib.ticker as ticker\n",
    "from urllib.request import urlopen\n",
    "from bs4 import BeautifulSoup"
   ]
  },
  {
   "cell_type": "markdown",
   "id": "8350a6f0",
   "metadata": {},
   "source": [
    "## BLS_key"
   ]
  },
  {
   "cell_type": "code",
   "execution_count": 4,
   "id": "c02cccde",
   "metadata": {},
   "outputs": [],
   "source": [
    "bls_key = os.environ.get('bls_key')\n",
    "\n",
    "# The url for BLS API v2\n",
    "url = 'https://api.bls.gov/publicAPI/v2/timeseries/data/'\n",
    "\n",
    "# API key in config.py which contains: bls_key = 'key'\n",
    "key = '?registrationkey={}'.format(bls_key)"
   ]
  },
  {
   "cell_type": "markdown",
   "id": "227785c1",
   "metadata": {},
   "source": [
    "## Information Industry: AVERAGE HOURLY EARNINGS OF ALL EMPLOYEES 2015 - 2021"
   ]
  },
  {
   "cell_type": "code",
   "execution_count": 5,
   "id": "c14e8a3f",
   "metadata": {},
   "outputs": [],
   "source": [
    "# Series stored as a dictionary #CEU-Industry code-03\n",
    "series_dict = {\n",
    "    'CEU5000000003': 'AVERAGE HOURLY EARNINGS OF ALL EMPLOYEES(Information)'} \n",
    "\n",
    "# Start year and end year\n",
    "dates = ('2015', '2021')"
   ]
  },
  {
   "cell_type": "code",
   "execution_count": 6,
   "id": "30237fde",
   "metadata": {},
   "outputs": [],
   "source": [
    "# Specify json as content type to return\n",
    "headers = {'Content-type': 'application/json'}\n",
    "\n",
    "# Submit the list of series as data\n",
    "data = json.dumps({\n",
    "    \"seriesid\": list(series_dict.keys()),\n",
    "    \"startyear\": dates[0],\n",
    "    \"endyear\": dates[1]})\n",
    "\n",
    "# Post request for the data\n",
    "p = requests.post(\n",
    "    '{}{}'.format(url, key),\n",
    "    headers=headers,\n",
    "    data=data).json()['Results']['series']"
   ]
  },
  {
   "cell_type": "code",
   "execution_count": 7,
   "id": "56f32be1",
   "metadata": {},
   "outputs": [
    {
     "data": {
      "text/html": [
       "<div>\n",
       "<style scoped>\n",
       "    .dataframe tbody tr th:only-of-type {\n",
       "        vertical-align: middle;\n",
       "    }\n",
       "\n",
       "    .dataframe tbody tr th {\n",
       "        vertical-align: top;\n",
       "    }\n",
       "\n",
       "    .dataframe thead th {\n",
       "        text-align: right;\n",
       "    }\n",
       "</style>\n",
       "<table border=\"1\" class=\"dataframe\">\n",
       "  <thead>\n",
       "    <tr style=\"text-align: right;\">\n",
       "      <th></th>\n",
       "      <th>AVERAGE HOURLY EARNINGS OF ALL EMPLOYEES(Wholesale_Trade)</th>\n",
       "    </tr>\n",
       "  </thead>\n",
       "  <tbody>\n",
       "    <tr>\n",
       "      <th>2021-07-01</th>\n",
       "      <td>33.67</td>\n",
       "    </tr>\n",
       "    <tr>\n",
       "      <th>2021-08-01</th>\n",
       "      <td>33.95</td>\n",
       "    </tr>\n",
       "    <tr>\n",
       "      <th>2021-09-01</th>\n",
       "      <td>33.88</td>\n",
       "    </tr>\n",
       "    <tr>\n",
       "      <th>2021-10-01</th>\n",
       "      <td>34.11</td>\n",
       "    </tr>\n",
       "    <tr>\n",
       "      <th>2021-11-01</th>\n",
       "      <td>34.07</td>\n",
       "    </tr>\n",
       "  </tbody>\n",
       "</table>\n",
       "</div>"
      ],
      "text/plain": [
       "            AVERAGE HOURLY EARNINGS OF ALL EMPLOYEES(Wholesale_Trade)\n",
       "2021-07-01                                              33.67        \n",
       "2021-08-01                                              33.95        \n",
       "2021-09-01                                              33.88        \n",
       "2021-10-01                                              34.11        \n",
       "2021-11-01                                              34.07        "
      ]
     },
     "execution_count": 7,
     "metadata": {},
     "output_type": "execute_result"
    }
   ],
   "source": [
    "# Date index from first series\n",
    "date_list = [f\"{i['year']}-{i['period'][1:]}-01\" for i in p[0]['data']]\n",
    "\n",
    "# Empty dataframe to fill with values\n",
    "df = pd.DataFrame()\n",
    "\n",
    "# Build a pandas series from the API results, p\n",
    "for s in p:\n",
    "    df[series_dict[s['seriesID']]] = pd.Series(\n",
    "        index = pd.to_datetime(date_list),\n",
    "        data = [i['value'] for i in s['data']]\n",
    "        ).astype(float).iloc[::-1]\n",
    "\n",
    "# Show last 5 results\n",
    "df.tail()"
   ]
  },
  {
   "cell_type": "code",
   "execution_count": 8,
   "id": "013e43e1",
   "metadata": {},
   "outputs": [
    {
     "data": {
      "text/plain": [
       "<AxesSubplot:title={'center':'Wholesale_Trade: AVERAGE HOURLY EARNINGS OF ALL EMPLOYEES 15-21'}>"
      ]
     },
     "execution_count": 8,
     "metadata": {},
     "output_type": "execute_result"
    },
    {
     "data": {
      "image/png": "[encoded data removed]",
      "text/plain": [
       "<Figure size 432x288 with 1 Axes>"
      ]
     },
     "metadata": {
      "needs_background": "light"
     },
     "output_type": "display_data"
    }
   ],
   "source": [
    "# Simple line plot of the data\n",
    "df.plot(title='Information: AVERAGE HOURLY EARNINGS OF ALL EMPLOYEES 15-21')"
   ]
  },
  {
   "cell_type": "markdown",
   "id": "896da0c1",
   "metadata": {},
   "source": [
    "## Information Industry: All employees, thousands 2019 - 2021"
   ]
  },
  {
   "cell_type": "code",
   "execution_count": 9,
   "id": "111b66be",
   "metadata": {},
   "outputs": [],
   "source": [
    "# Series stored as a dictionary #CEU-Industry code-01 (Employment Survey)\n",
    "series_dict = {\n",
    "    'CEU5000000001': 'All employees, thousands'} \n",
    "\n",
    "# Start year and end year\n",
    "dates = ('2019', '2021')"
   ]
  },
  {
   "cell_type": "code",
   "execution_count": 10,
   "id": "d3b8ea4f",
   "metadata": {},
   "outputs": [],
   "source": [
    "# Specify json as content type to return\n",
    "headers = {'Content-type': 'application/json'}\n",
    "\n",
    "# Submit the list of series as data\n",
    "data = json.dumps({\n",
    "    \"seriesid\": list(series_dict.keys()),\n",
    "    \"startyear\": dates[0],\n",
    "    \"endyear\": dates[1]})\n",
    "\n",
    "# Post request for the data\n",
    "p = requests.post(\n",
    "    '{}{}'.format(url, key),\n",
    "    headers=headers,\n",
    "    data=data).json()['Results']['series']\n"
   ]
  },
  {
   "cell_type": "code",
   "execution_count": 11,
   "id": "944715b6",
   "metadata": {},
   "outputs": [
    {
     "data": {
      "text/html": [
       "<div>\n",
       "<style scoped>\n",
       "    .dataframe tbody tr th:only-of-type {\n",
       "        vertical-align: middle;\n",
       "    }\n",
       "\n",
       "    .dataframe tbody tr th {\n",
       "        vertical-align: top;\n",
       "    }\n",
       "\n",
       "    .dataframe thead th {\n",
       "        text-align: right;\n",
       "    }\n",
       "</style>\n",
       "<table border=\"1\" class=\"dataframe\">\n",
       "  <thead>\n",
       "    <tr style=\"text-align: right;\">\n",
       "      <th></th>\n",
       "      <th>All employees, thousands</th>\n",
       "    </tr>\n",
       "  </thead>\n",
       "  <tbody>\n",
       "    <tr>\n",
       "      <th>2021-07-01</th>\n",
       "      <td>5744.9</td>\n",
       "    </tr>\n",
       "    <tr>\n",
       "      <th>2021-08-01</th>\n",
       "      <td>5735.7</td>\n",
       "    </tr>\n",
       "    <tr>\n",
       "      <th>2021-09-01</th>\n",
       "      <td>5724.8</td>\n",
       "    </tr>\n",
       "    <tr>\n",
       "      <th>2021-10-01</th>\n",
       "      <td>5747.2</td>\n",
       "    </tr>\n",
       "    <tr>\n",
       "      <th>2021-11-01</th>\n",
       "      <td>5764.3</td>\n",
       "    </tr>\n",
       "  </tbody>\n",
       "</table>\n",
       "</div>"
      ],
      "text/plain": [
       "            All employees, thousands\n",
       "2021-07-01                    5744.9\n",
       "2021-08-01                    5735.7\n",
       "2021-09-01                    5724.8\n",
       "2021-10-01                    5747.2\n",
       "2021-11-01                    5764.3"
      ]
     },
     "execution_count": 11,
     "metadata": {},
     "output_type": "execute_result"
    }
   ],
   "source": [
    "# Date index from first series\n",
    "date_list = [f\"{i['year']}-{i['period'][1:]}-01\" for i in p[0]['data']]\n",
    "\n",
    "# Empty dataframe to fill with values\n",
    "df = pd.DataFrame()\n",
    "\n",
    "# Build a pandas series from the API results, p\n",
    "for s in p:\n",
    "    df[series_dict[s['seriesID']]] = pd.Series(\n",
    "        index = pd.to_datetime(date_list),\n",
    "        data = [i['value'] for i in s['data']]\n",
    "        ).astype(float).iloc[::-1]\n",
    "\n",
    "# Show last 5 results\n",
    "df.tail()"
   ]
  },
  {
   "cell_type": "code",
   "execution_count": 12,
   "id": "b4f9c79f",
   "metadata": {},
   "outputs": [
    {
     "data": {
      "text/plain": [
       "<AxesSubplot:title={'center':'Wholesale Trade: All employees, thousands'}>"
      ]
     },
     "execution_count": 12,
     "metadata": {},
     "output_type": "execute_result"
    },
    {
     "data": {
      "image/png": "[encoded data removed]",
      "text/plain": [
       "<Figure size 432x288 with 1 Axes>"
      ]
     },
     "metadata": {
      "needs_background": "light"
     },
     "output_type": "display_data"
    }
   ],
   "source": [
    "# Simple line plot of the data\n",
    "df.plot(title='Information: All employees, thousands')"
   ]
  },
  {
   "cell_type": "code",
   "execution_count": null,
   "id": "0ea916b3",
   "metadata": {},
   "outputs": [],
   "source": []
  }
 ],
 "metadata": {
  "kernelspec": {
   "display_name": "Python 3",
   "language": "python",
   "name": "python3"
  },
  "language_info": {
   "codemirror_mode": {
    "name": "ipython",
    "version": 3
   },
   "file_extension": ".py",
   "mimetype": "text/x-python",
   "name": "python",
   "nbconvert_exporter": "python",
   "pygments_lexer": "ipython3",
   "version": "3.8.8"
  }
 },
 "nbformat": 4,
 "nbformat_minor": 5
}
