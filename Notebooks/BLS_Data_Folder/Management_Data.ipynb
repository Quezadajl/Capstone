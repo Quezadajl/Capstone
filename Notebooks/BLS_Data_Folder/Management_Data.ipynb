{
 "cells": [
  {
   "cell_type": "code",
   "execution_count": 1,
   "id": "0befaf99",
   "metadata": {},
   "outputs": [],
   "source": [
    "import requests\n",
    "import json\n",
    "import prettytable\n",
    "import os\n",
    "import pandas as pd\n",
    "import dtale\n",
    "import plotly.express as px \n",
    "import numpy as np\n",
    "import matplotlib.pyplot as plt\n",
    "import seaborn as sns\n",
    "%matplotlib inline\n",
    "import re\n",
    "import time\n",
    "from datetime import datetime\n",
    "import matplotlib.dates as mdates\n",
    "import matplotlib.ticker as ticker\n",
    "from urllib.request import urlopen\n",
    "from bs4 import BeautifulSoup"
   ]
  },
  {
   "cell_type": "markdown",
   "id": "8350a6f0",
   "metadata": {},
   "source": [
    "## BLS_key"
   ]
  },
  {
   "cell_type": "code",
   "execution_count": 2,
   "id": "c02cccde",
   "metadata": {},
   "outputs": [],
   "source": [
    "bls_key = os.environ.get('bls_key')\n",
    "\n",
    "# The url for BLS API v2\n",
    "url = 'https://api.bls.gov/publicAPI/v2/timeseries/data/'\n",
    "\n",
    "# API key in config.py which contains: bls_key = 'key'\n",
    "key = '?registrationkey={}'.format(bls_key)"
   ]
  },
  {
   "cell_type": "markdown",
   "id": "227785c1",
   "metadata": {},
   "source": [
    "## Management of Companies & Enterprises Industry: AVERAGE HOURLY EARNINGS OF ALL EMPLOYEES 2015 - 2021"
   ]
  },
  {
   "cell_type": "code",
   "execution_count": 3,
   "id": "c14e8a3f",
   "metadata": {},
   "outputs": [],
   "source": [
    "# Series stored as a dictionary #CEU-Industry code-03\n",
    "series_dict = {\n",
    "    'CEU6055000003': 'AVERAGE HOURLY EARNINGS OF ALL EMPLOYEES(Management of Companies & Enterprises)'} \n",
    "\n",
    "# Start year and end year\n",
    "dates = ('2019', '2021')"
   ]
  },
  {
   "cell_type": "code",
   "execution_count": 4,
   "id": "30237fde",
   "metadata": {},
   "outputs": [],
   "source": [
    "# Specify json as content type to return\n",
    "headers = {'Content-type': 'application/json'}\n",
    "\n",
    "# Submit the list of series as data\n",
    "data = json.dumps({\n",
    "    \"seriesid\": list(series_dict.keys()),\n",
    "    \"startyear\": dates[0],\n",
    "    \"endyear\": dates[1]})\n",
    "\n",
    "# Post request for the data\n",
    "p = requests.post(\n",
    "    '{}{}'.format(url, key),\n",
    "    headers=headers,\n",
    "    data=data).json()['Results']['series']"
   ]
  },
  {
   "cell_type": "code",
   "execution_count": 5,
   "id": "56f32be1",
   "metadata": {},
   "outputs": [
    {
     "data": {
      "text/html": [
       "<div>\n",
       "<style scoped>\n",
       "    .dataframe tbody tr th:only-of-type {\n",
       "        vertical-align: middle;\n",
       "    }\n",
       "\n",
       "    .dataframe tbody tr th {\n",
       "        vertical-align: top;\n",
       "    }\n",
       "\n",
       "    .dataframe thead th {\n",
       "        text-align: right;\n",
       "    }\n",
       "</style>\n",
       "<table border=\"1\" class=\"dataframe\">\n",
       "  <thead>\n",
       "    <tr style=\"text-align: right;\">\n",
       "      <th></th>\n",
       "      <th>AVERAGE HOURLY EARNINGS OF ALL EMPLOYEES(Management of Companies &amp; Enterprises)</th>\n",
       "    </tr>\n",
       "  </thead>\n",
       "  <tbody>\n",
       "    <tr>\n",
       "      <th>2021-06-01</th>\n",
       "      <td>44.69</td>\n",
       "    </tr>\n",
       "    <tr>\n",
       "      <th>2021-07-01</th>\n",
       "      <td>44.84</td>\n",
       "    </tr>\n",
       "    <tr>\n",
       "      <th>2021-08-01</th>\n",
       "      <td>45.43</td>\n",
       "    </tr>\n",
       "    <tr>\n",
       "      <th>2021-09-01</th>\n",
       "      <td>44.58</td>\n",
       "    </tr>\n",
       "    <tr>\n",
       "      <th>2021-10-01</th>\n",
       "      <td>44.87</td>\n",
       "    </tr>\n",
       "  </tbody>\n",
       "</table>\n",
       "</div>"
      ],
      "text/plain": [
       "            AVERAGE HOURLY EARNINGS OF ALL EMPLOYEES(Management of Companies & Enterprises)\n",
       "2021-06-01                                              44.69                              \n",
       "2021-07-01                                              44.84                              \n",
       "2021-08-01                                              45.43                              \n",
       "2021-09-01                                              44.58                              \n",
       "2021-10-01                                              44.87                              "
      ]
     },
     "execution_count": 5,
     "metadata": {},
     "output_type": "execute_result"
    }
   ],
   "source": [
    "# Date index from first series\n",
    "date_list = [f\"{i['year']}-{i['period'][1:]}-01\" for i in p[0]['data']]\n",
    "\n",
    "# Empty dataframe to fill with values\n",
    "df = pd.DataFrame()\n",
    "\n",
    "# Build a pandas series from the API results, p\n",
    "for s in p:\n",
    "    df[series_dict[s['seriesID']]] = pd.Series(\n",
    "        index = pd.to_datetime(date_list),\n",
    "        data = [i['value'] for i in s['data']]\n",
    "        ).astype(float).iloc[::-1]\n",
    "\n",
    "# Show last 5 results\n",
    "df.tail()"
   ]
  },
  {
   "cell_type": "code",
   "execution_count": null,
   "id": "013e43e1",
   "metadata": {},
   "outputs": [],
   "source": [
    "# Simple line plot of the data\n",
    "df.plot(title='Management of Companies & Enterprises: AVERAGE HOURLY EARNINGS OF ALL EMPLOYEES 15-21')"
   ]
  },
  {
   "cell_type": "markdown",
   "id": "896da0c1",
   "metadata": {},
   "source": [
    "## Management Industry: All employees, thousands 2019 - 2021"
   ]
  },
  {
   "cell_type": "code",
   "execution_count": null,
   "id": "111b66be",
   "metadata": {},
   "outputs": [],
   "source": [
    "# Series stored as a dictionary #CEU-Industry code-01 (Employment Survey)\n",
    "series_dict = {\n",
    "    'CEU6055000001': 'All employees, thousands'} \n",
    "\n",
    "# Start year and end year\n",
    "dates = ('2019', '2021')"
   ]
  },
  {
   "cell_type": "code",
   "execution_count": null,
   "id": "d3b8ea4f",
   "metadata": {},
   "outputs": [],
   "source": [
    "# Specify json as content type to return\n",
    "headers = {'Content-type': 'application/json'}\n",
    "\n",
    "# Submit the list of series as data\n",
    "data = json.dumps({\n",
    "    \"seriesid\": list(series_dict.keys()),\n",
    "    \"startyear\": dates[0],\n",
    "    \"endyear\": dates[1]})\n",
    "\n",
    "# Post request for the data\n",
    "p = requests.post(\n",
    "    '{}{}'.format(url, key),\n",
    "    headers=headers,\n",
    "    data=data).json()['Results']['series']\n"
   ]
  },
  {
   "cell_type": "code",
   "execution_count": null,
   "id": "944715b6",
   "metadata": {},
   "outputs": [],
   "source": [
    "# Date index from first series\n",
    "date_list = [f\"{i['year']}-{i['period'][1:]}-01\" for i in p[0]['data']]\n",
    "\n",
    "# Empty dataframe to fill with values\n",
    "df = pd.DataFrame()\n",
    "\n",
    "# Build a pandas series from the API results, p\n",
    "for s in p:\n",
    "    df[series_dict[s['seriesID']]] = pd.Series(\n",
    "        index = pd.to_datetime(date_list),\n",
    "        data = [i['value'] for i in s['data']]\n",
    "        ).astype(float).iloc[::-1]\n",
    "\n",
    "# Show last 5 results\n",
    "df.tail()"
   ]
  },
  {
   "cell_type": "code",
   "execution_count": null,
   "id": "b4f9c79f",
   "metadata": {},
   "outputs": [],
   "source": [
    "# Simple line plot of the data\n",
    "df.plot(title='Management of Companies & Enterprises: All employees, thousands')"
   ]
  },
  {
   "cell_type": "code",
   "execution_count": null,
   "id": "0ea916b3",
   "metadata": {},
   "outputs": [],
   "source": []
  }
 ],
 "metadata": {
  "kernelspec": {
   "display_name": "Python 3",
   "language": "python",
   "name": "python3"
  },
  "language_info": {
   "codemirror_mode": {
    "name": "ipython",
    "version": 3
   },
   "file_extension": ".py",
   "mimetype": "text/x-python",
   "name": "python",
   "nbconvert_exporter": "python",
   "pygments_lexer": "ipython3",
   "version": "3.8.8"
  }
 },
 "nbformat": 4,
 "nbformat_minor": 5
}
