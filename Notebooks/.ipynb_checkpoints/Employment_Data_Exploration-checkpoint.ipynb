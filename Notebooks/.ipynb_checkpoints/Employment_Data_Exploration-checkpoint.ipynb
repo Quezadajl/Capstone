{
 "cells": [
  {
   "cell_type": "code",
   "execution_count": 1,
   "id": "34c20fdc",
   "metadata": {},
   "outputs": [],
   "source": [
    "import requests\n",
    "import json\n",
    "import prettytable\n",
    "import os\n",
    "import pandas as pd\n",
    "import dtale\n",
    "import plotly.express as px \n",
    "import numpy as np\n",
    "import matplotlib.pyplot as plt\n",
    "import seaborn as sns\n",
    "%matplotlib inline\n",
    "import re\n",
    "import time\n",
    "from datetime import datetime\n",
    "import matplotlib.dates as mdates\n",
    "import matplotlib.ticker as ticker\n",
    "from urllib.request import urlopen\n",
    "from bs4 import BeautifulSoup"
   ]
  },
  {
   "cell_type": "code",
   "execution_count": 2,
   "id": "c526875d",
   "metadata": {},
   "outputs": [],
   "source": [
    "# BLS API v1 url\n",
    "base_url = 'https://api.bls.gov/publicAPI/v1/timeseries/data/'"
   ]
  },
  {
   "cell_type": "code",
   "execution_count": 3,
   "id": "0044c278",
   "metadata": {},
   "outputs": [],
   "source": [
    "# BLS series id for the civilian labor force participation rate\n",
    "series = {'id': 'CEU0800000003',\n",
    "          'name': 'National Employment, Hours, and Earnings'}"
   ]
  },
  {
   "cell_type": "code",
   "execution_count": 4,
   "id": "50be05d8",
   "metadata": {},
   "outputs": [
    {
     "name": "stdout",
     "output_type": "stream",
     "text": [
      "https://api.bls.gov/publicAPI/v1/timeseries/data/CEU0800000003\n"
     ]
    }
   ],
   "source": [
    "data_url = '{}{}'.format(base_url, series['id'])\n",
    "print(data_url)"
   ]
  },
  {
   "cell_type": "code",
   "execution_count": 5,
   "id": "0a2cd3be",
   "metadata": {},
   "outputs": [
    {
     "name": "stdout",
     "output_type": "stream",
     "text": [
      "Status: REQUEST_NOT_PROCESSED\n"
     ]
    }
   ],
   "source": [
    "r = requests.get(data_url).json()\n",
    "print('Status: ' + r['status'])"
   ]
  },
  {
   "cell_type": "code",
   "execution_count": 6,
   "id": "142081f9",
   "metadata": {},
   "outputs": [
    {
     "name": "stdout",
     "output_type": "stream",
     "text": [
      "dict_keys(['status', 'responseTime', 'message', 'Results'])\n"
     ]
    }
   ],
   "source": [
    "print(r.keys())"
   ]
  },
  {
   "cell_type": "code",
   "execution_count": 7,
   "id": "690b5186",
   "metadata": {},
   "outputs": [
    {
     "ename": "KeyError",
     "evalue": "'series'",
     "output_type": "error",
     "traceback": [
      "\u001b[1;31m---------------------------------------------------------------------------\u001b[0m",
      "\u001b[1;31mKeyError\u001b[0m                                  Traceback (most recent call last)",
      "\u001b[1;32m<ipython-input-7-49fcce14d5e5>\u001b[0m in \u001b[0;36m<module>\u001b[1;34m\u001b[0m\n\u001b[1;32m----> 1\u001b[1;33m \u001b[0mr\u001b[0m \u001b[1;33m=\u001b[0m \u001b[0mr\u001b[0m\u001b[1;33m[\u001b[0m\u001b[1;34m'Results'\u001b[0m\u001b[1;33m]\u001b[0m\u001b[1;33m[\u001b[0m\u001b[1;34m'series'\u001b[0m\u001b[1;33m]\u001b[0m\u001b[1;33m[\u001b[0m\u001b[1;36m0\u001b[0m\u001b[1;33m]\u001b[0m\u001b[1;33m[\u001b[0m\u001b[1;34m'data'\u001b[0m\u001b[1;33m]\u001b[0m\u001b[1;33m\u001b[0m\u001b[1;33m\u001b[0m\u001b[0m\n\u001b[0m\u001b[0;32m      2\u001b[0m \u001b[0mprint\u001b[0m\u001b[1;33m(\u001b[0m\u001b[0mr\u001b[0m\u001b[1;33m[\u001b[0m\u001b[1;36m0\u001b[0m\u001b[1;33m]\u001b[0m\u001b[1;33m)\u001b[0m\u001b[1;33m\u001b[0m\u001b[1;33m\u001b[0m\u001b[0m\n",
      "\u001b[1;31mKeyError\u001b[0m: 'series'"
     ]
    }
   ],
   "source": [
    "r = r['Results']['series'][0]['data']\n",
    "print(r[0])"
   ]
  },
  {
   "cell_type": "code",
   "execution_count": null,
   "id": "5cd6f18a",
   "metadata": {},
   "outputs": [],
   "source": [
    "import pandas as pd\n",
    "\n",
    "dates = ['{} {}'.format(i['period'], i['year']) for i in r]\n",
    "index = pd.to_datetime(dates)\n",
    "data = {series['id']: [float(i['value']) for i in r],\n",
    "        'footnotes': [i['footnotes'][0] for i in r]}\n",
    "\n",
    "df = pd.DataFrame(index=index, data=data).iloc[::-1]\n",
    "\n",
    "df.head()"
   ]
  },
  {
   "cell_type": "code",
   "execution_count": null,
   "id": "9b466c8b",
   "metadata": {},
   "outputs": [],
   "source": [
    "%matplotlib inline\n",
    "\n",
    "df['mean'] = df[series['id']].mean()\n",
    "df[[series['id'], 'mean']].plot(title=series['name'])"
   ]
  },
  {
   "cell_type": "markdown",
   "id": "c03c0767",
   "metadata": {},
   "source": [
    "# National employment, hours, and earnings - Series ID CEU0800000003"
   ]
  },
  {
   "cell_type": "code",
   "execution_count": 4,
   "id": "323d9c64",
   "metadata": {},
   "outputs": [],
   "source": [
    "bls_key = os.environ.get('bls_key')"
   ]
  },
  {
   "cell_type": "code",
   "execution_count": 5,
   "id": "7772f7d7",
   "metadata": {},
   "outputs": [],
   "source": [
    "#api key has been saved in the environment\n",
    "\n",
    "\n",
    "# The url for BLS API v2\n",
    "url = 'https://api.bls.gov/publicAPI/v2/timeseries/data/'\n",
    "\n",
    "# API key in config.py which contains: bls_key = 'key'\n",
    "key = '?registrationkey={}'.format(bls_key)\n",
    "\n",
    "# Series stored as a dictionary\n",
    "series_dict = {\n",
    "    'CEU0800000003': 'National employment, hours, and earnings'}\n",
    "\n",
    "# Start year and end year\n",
    "dates = ('2018', '2021')"
   ]
  },
  {
   "cell_type": "code",
   "execution_count": null,
   "id": "eed976ae",
   "metadata": {},
   "outputs": [],
   "source": [
    "import json\n",
    "\n",
    "# Specify json as content type to return\n",
    "headers = {'Content-type': 'application/json'}\n",
    "\n",
    "# Submit the list of series as data\n",
    "data = json.dumps({\n",
    "    \"seriesid\": list(series_dict.keys()),\n",
    "    \"startyear\": dates[0],\n",
    "    \"endyear\": dates[1]})\n",
    "\n",
    "# Post request for the data\n",
    "p = requests.post(\n",
    "    '{}{}'.format(url, key),\n",
    "    headers=headers,\n",
    "    data=data).json()['Results']['series']"
   ]
  },
  {
   "cell_type": "code",
   "execution_count": null,
   "id": "7c206f59",
   "metadata": {},
   "outputs": [],
   "source": [
    "# Date index from first series\n",
    "date_list = [f\"{i['year']}-{i['period'][1:]}-01\" for i in p[0]['data']]\n",
    "\n",
    "# Empty dataframe to fill with values\n",
    "df = pd.DataFrame()\n",
    "\n",
    "# Build a pandas series from the API results, p\n",
    "for s in p:\n",
    "    df[series_dict[s['seriesID']]] = pd.Series(\n",
    "        index = pd.to_datetime(date_list),\n",
    "        data = [i['value'] for i in s['data']]\n",
    "        ).astype(float).iloc[::-1]\n",
    "\n",
    "# Show last 5 results\n",
    "df.tail()"
   ]
  },
  {
   "cell_type": "code",
   "execution_count": null,
   "id": "39e9dd5a",
   "metadata": {},
   "outputs": [],
   "source": [
    "# Simple line plot of the data\n",
    "df.plot(title='National employment, hours, and earnings')"
   ]
  },
  {
   "cell_type": "markdown",
   "id": "4cfadc85",
   "metadata": {},
   "source": [
    "# Survey Legend:\n",
    "* Series ID    CEU0800000003\n",
    "* Positions       Value           Field Name\n",
    "* 1-2             CE              Prefix\n",
    "* 3               U               Seasonal Adjustment Code\n",
    "* 4-11\t\t08000000\tSupersector and Industry Codes\n",
    "* 12-13           03              Data Type Code"
   ]
  },
  {
   "cell_type": "markdown",
   "id": "60599788",
   "metadata": {},
   "source": [
    "# Total Nonfarm Employment, Seasonally Adjusted - CES0000000001\n",
    "# Total Private Employment, Seasonally Adjusted - CES0500000001"
   ]
  },
  {
   "cell_type": "code",
   "execution_count": 12,
   "id": "a5f77da1",
   "metadata": {},
   "outputs": [],
   "source": [
    "# Series stored as a dictionary; \n",
    "series_dict = {\n",
    "    'CES0000000001': 'Total Nonfarm Employment',\n",
    "    'CES0500000001': 'Total Private Employment'}\n",
    "\n",
    "# Start year and end year\n",
    "dates = ('2017', '2021')\n",
    "\n",
    "# Specify json as content type to return\n",
    "headers = {'Content-type': 'application/json'}\n",
    "\n",
    "# Submit the list of series as data\n",
    "data = json.dumps({\n",
    "    \"seriesid\": list(series_dict.keys()),\n",
    "    \"startyear\": dates[0],\n",
    "    \"endyear\": dates[1]})\n",
    "\n",
    "# Post request for the data\n",
    "p = requests.post(\n",
    "    '{}{}'.format(url, key),\n",
    "    headers=headers,\n",
    "    data=data).json()['Results']['series']"
   ]
  },
  {
   "cell_type": "code",
   "execution_count": 13,
   "id": "f091eac1",
   "metadata": {},
   "outputs": [
    {
     "data": {
      "text/html": [
       "<div>\n",
       "<style scoped>\n",
       "    .dataframe tbody tr th:only-of-type {\n",
       "        vertical-align: middle;\n",
       "    }\n",
       "\n",
       "    .dataframe tbody tr th {\n",
       "        vertical-align: top;\n",
       "    }\n",
       "\n",
       "    .dataframe thead th {\n",
       "        text-align: right;\n",
       "    }\n",
       "</style>\n",
       "<table border=\"1\" class=\"dataframe\">\n",
       "  <thead>\n",
       "    <tr style=\"text-align: right;\">\n",
       "      <th></th>\n",
       "      <th>Total Nonfarm Employment</th>\n",
       "      <th>Total Private Employment</th>\n",
       "    </tr>\n",
       "  </thead>\n",
       "  <tbody>\n",
       "    <tr>\n",
       "      <th>2021-07-01</th>\n",
       "      <td>146993.0</td>\n",
       "      <td>124920.0</td>\n",
       "    </tr>\n",
       "    <tr>\n",
       "      <th>2021-08-01</th>\n",
       "      <td>147476.0</td>\n",
       "      <td>125424.0</td>\n",
       "    </tr>\n",
       "    <tr>\n",
       "      <th>2021-09-01</th>\n",
       "      <td>147855.0</td>\n",
       "      <td>125848.0</td>\n",
       "    </tr>\n",
       "    <tr>\n",
       "      <th>2021-10-01</th>\n",
       "      <td>148401.0</td>\n",
       "      <td>126476.0</td>\n",
       "    </tr>\n",
       "    <tr>\n",
       "      <th>2021-11-01</th>\n",
       "      <td>148611.0</td>\n",
       "      <td>126711.0</td>\n",
       "    </tr>\n",
       "  </tbody>\n",
       "</table>\n",
       "</div>"
      ],
      "text/plain": [
       "            Total Nonfarm Employment  Total Private Employment\n",
       "2021-07-01                  146993.0                  124920.0\n",
       "2021-08-01                  147476.0                  125424.0\n",
       "2021-09-01                  147855.0                  125848.0\n",
       "2021-10-01                  148401.0                  126476.0\n",
       "2021-11-01                  148611.0                  126711.0"
      ]
     },
     "execution_count": 13,
     "metadata": {},
     "output_type": "execute_result"
    }
   ],
   "source": [
    "# Date index from first series\n",
    "date_list = [f\"{i['year']}-{i['period'][1:]}-01\" for i in p[0]['data']]\n",
    "\n",
    "# Empty dataframe to fill with values\n",
    "df = pd.DataFrame()\n",
    "\n",
    "# Build a pandas series from the API results, p\n",
    "for s in p:\n",
    "    df[series_dict[s['seriesID']]] = pd.Series(\n",
    "        index = pd.to_datetime(date_list),\n",
    "        data = [i['value'] for i in s['data']]\n",
    "        ).astype(float).iloc[::-1]\n",
    "\n",
    "# Show last 5 results\n",
    "df.tail()"
   ]
  },
  {
   "cell_type": "code",
   "execution_count": 14,
   "id": "338ecebd",
   "metadata": {},
   "outputs": [],
   "source": [
    "df.to_csv('national_data_employees.csv')"
   ]
  },
  {
   "cell_type": "code",
   "execution_count": 15,
   "id": "c69dea4f",
   "metadata": {},
   "outputs": [
    {
     "data": {
      "text/plain": [
       "(59, 3)"
      ]
     },
     "execution_count": 15,
     "metadata": {},
     "output_type": "execute_result"
    }
   ],
   "source": [
    "df= pd.read_csv('national_data_employees.csv')\n",
    "df.shape"
   ]
  },
  {
   "cell_type": "code",
   "execution_count": 16,
   "id": "dfbf68eb",
   "metadata": {},
   "outputs": [
    {
     "name": "stdout",
     "output_type": "stream",
     "text": [
      "   Unnamed: 0  Total Nonfarm Employment  Total Private Employment\n",
      "0  2017-01-01                  145612.0                  123304.0\n",
      "1  2017-02-01                  145795.0                  123475.0\n",
      "2  2017-03-01                  145934.0                  123609.0\n",
      "3  2017-04-01                  146154.0                  123816.0\n",
      "4  2017-05-01                  146295.0                  123961.0\n"
     ]
    }
   ],
   "source": [
    "print(df.head())"
   ]
  },
  {
   "cell_type": "code",
   "execution_count": 17,
   "id": "0d846537",
   "metadata": {},
   "outputs": [
    {
     "data": {
      "text/plain": [
       "<AxesSubplot:title={'center':'Total Multi-Sector Employment, (Thousands)'}>"
      ]
     },
     "execution_count": 17,
     "metadata": {},
     "output_type": "execute_result"
    },
    {
     "data": {
      "image/png": "[encoded data removed]",
      "text/plain": [
       "<Figure size 432x288 with 1 Axes>"
      ]
     },
     "metadata": {
      "needs_background": "light"
     },
     "output_type": "display_data"
    }
   ],
   "source": [
    "# Simple line plot of the data\n",
    "df.plot(title='Total Multi-Sector Employment, (Thousands)')"
   ]
  },
  {
   "cell_type": "code",
   "execution_count": null,
   "id": "6a02c11b",
   "metadata": {},
   "outputs": [],
   "source": []
  },
  {
   "cell_type": "markdown",
   "id": "b438e20f",
   "metadata": {},
   "source": [
    "## Employment Data Analysis using Python\n",
    "### 2021 not included because the dataframe could not include Dec of 2021"
   ]
  },
  {
   "cell_type": "code",
   "execution_count": 24,
   "id": "667216b5",
   "metadata": {},
   "outputs": [],
   "source": [
    "# Series stored as a dictionary; \n",
    "series_dict = {\n",
    "               'CEU0600000001':'Goods-producing',\n",
    "               'CEU0700000001':'Service-providing',\n",
    "               'CEU4000000001':'Trade, transportation, and utilities',\n",
    "               'CEU4142000001':'Wholesale trade',\n",
    "               'CEU4200000001':'Retail trade',\n",
    "               'CEU6056150001':'Travel arrangement and reservation services',\n",
    "               'CEU7072250001':'Restaurants and other eating places',\n",
    "               'CEU7071000001':'Arts, entertainment, and recreation',\n",
    "               'CEU6054150001':'Computer systems design and related services',\n",
    "               'CEU6054161001':'Management consulting services'}\n",
    "\n",
    "# Start year and end year\n",
    "dates = ('2018', '2020')\n",
    "\n",
    "# Specify json as content type to return\n",
    "headers = {'Content-type': 'application/json'}\n",
    "\n",
    "# Submit the list of series as data\n",
    "data = json.dumps({\n",
    "    \"seriesid\": list(series_dict.keys()),\n",
    "    \"startyear\": dates[0],\n",
    "    \"endyear\": dates[1]})\n",
    "\n",
    "# Post request for the data\n",
    "p = requests.post(\n",
    "    '{}{}'.format(url, key),\n",
    "    headers=headers,\n",
    "    data=data).json()['Results']['series']"
   ]
  },
  {
   "cell_type": "code",
   "execution_count": 25,
   "id": "4122ea6f",
   "metadata": {},
   "outputs": [
    {
     "data": {
      "text/html": [
       "<div>\n",
       "<style scoped>\n",
       "    .dataframe tbody tr th:only-of-type {\n",
       "        vertical-align: middle;\n",
       "    }\n",
       "\n",
       "    .dataframe tbody tr th {\n",
       "        vertical-align: top;\n",
       "    }\n",
       "\n",
       "    .dataframe thead th {\n",
       "        text-align: right;\n",
       "    }\n",
       "</style>\n",
       "<table border=\"1\" class=\"dataframe\">\n",
       "  <thead>\n",
       "    <tr style=\"text-align: right;\">\n",
       "      <th></th>\n",
       "      <th>Goods-producing</th>\n",
       "      <th>Service-providing</th>\n",
       "      <th>Trade, transportation, and utilities</th>\n",
       "      <th>Wholesale trade</th>\n",
       "      <th>Retail trade</th>\n",
       "      <th>Travel arrangement and reservation services</th>\n",
       "      <th>Restaurants and other eating places</th>\n",
       "      <th>Arts, entertainment, and recreation</th>\n",
       "      <th>Computer systems design and related services</th>\n",
       "      <th>Management consulting services</th>\n",
       "    </tr>\n",
       "  </thead>\n",
       "  <tbody>\n",
       "    <tr>\n",
       "      <th>2020-08-01</th>\n",
       "      <td>20188.0</td>\n",
       "      <td>120540.0</td>\n",
       "      <td>26452.0</td>\n",
       "      <td>5565.2</td>\n",
       "      <td>14965.5</td>\n",
       "      <td>153.8</td>\n",
       "      <td>9458.9</td>\n",
       "      <td>1837.9</td>\n",
       "      <td>2180.7</td>\n",
       "      <td>1226.7</td>\n",
       "    </tr>\n",
       "    <tr>\n",
       "      <th>2020-09-01</th>\n",
       "      <td>20154.0</td>\n",
       "      <td>121792.0</td>\n",
       "      <td>26512.0</td>\n",
       "      <td>5575.7</td>\n",
       "      <td>14891.9</td>\n",
       "      <td>152.0</td>\n",
       "      <td>9475.7</td>\n",
       "      <td>1760.1</td>\n",
       "      <td>2162.0</td>\n",
       "      <td>1227.5</td>\n",
       "    </tr>\n",
       "    <tr>\n",
       "      <th>2020-10-01</th>\n",
       "      <td>20261.0</td>\n",
       "      <td>123307.0</td>\n",
       "      <td>26889.0</td>\n",
       "      <td>5596.4</td>\n",
       "      <td>15131.1</td>\n",
       "      <td>151.2</td>\n",
       "      <td>9628.9</td>\n",
       "      <td>1754.6</td>\n",
       "      <td>2201.7</td>\n",
       "      <td>1253.6</td>\n",
       "    </tr>\n",
       "    <tr>\n",
       "      <th>2020-11-01</th>\n",
       "      <td>20203.0</td>\n",
       "      <td>123918.0</td>\n",
       "      <td>27520.0</td>\n",
       "      <td>5615.0</td>\n",
       "      <td>15487.9</td>\n",
       "      <td>148.8</td>\n",
       "      <td>9559.3</td>\n",
       "      <td>1698.8</td>\n",
       "      <td>2203.5</td>\n",
       "      <td>1256.7</td>\n",
       "    </tr>\n",
       "    <tr>\n",
       "      <th>2020-12-01</th>\n",
       "      <td>20165.0</td>\n",
       "      <td>123437.0</td>\n",
       "      <td>27799.0</td>\n",
       "      <td>5632.3</td>\n",
       "      <td>15628.2</td>\n",
       "      <td>145.5</td>\n",
       "      <td>9243.2</td>\n",
       "      <td>1605.6</td>\n",
       "      <td>2204.6</td>\n",
       "      <td>1270.0</td>\n",
       "    </tr>\n",
       "  </tbody>\n",
       "</table>\n",
       "</div>"
      ],
      "text/plain": [
       "            Goods-producing  Service-providing  \\\n",
       "2020-08-01          20188.0           120540.0   \n",
       "2020-09-01          20154.0           121792.0   \n",
       "2020-10-01          20261.0           123307.0   \n",
       "2020-11-01          20203.0           123918.0   \n",
       "2020-12-01          20165.0           123437.0   \n",
       "\n",
       "            Trade, transportation, and utilities  Wholesale trade  \\\n",
       "2020-08-01                               26452.0           5565.2   \n",
       "2020-09-01                               26512.0           5575.7   \n",
       "2020-10-01                               26889.0           5596.4   \n",
       "2020-11-01                               27520.0           5615.0   \n",
       "2020-12-01                               27799.0           5632.3   \n",
       "\n",
       "            Retail trade  Travel arrangement and reservation services  \\\n",
       "2020-08-01       14965.5                                        153.8   \n",
       "2020-09-01       14891.9                                        152.0   \n",
       "2020-10-01       15131.1                                        151.2   \n",
       "2020-11-01       15487.9                                        148.8   \n",
       "2020-12-01       15628.2                                        145.5   \n",
       "\n",
       "            Restaurants and other eating places  \\\n",
       "2020-08-01                               9458.9   \n",
       "2020-09-01                               9475.7   \n",
       "2020-10-01                               9628.9   \n",
       "2020-11-01                               9559.3   \n",
       "2020-12-01                               9243.2   \n",
       "\n",
       "            Arts, entertainment, and recreation  \\\n",
       "2020-08-01                               1837.9   \n",
       "2020-09-01                               1760.1   \n",
       "2020-10-01                               1754.6   \n",
       "2020-11-01                               1698.8   \n",
       "2020-12-01                               1605.6   \n",
       "\n",
       "            Computer systems design and related services  \\\n",
       "2020-08-01                                        2180.7   \n",
       "2020-09-01                                        2162.0   \n",
       "2020-10-01                                        2201.7   \n",
       "2020-11-01                                        2203.5   \n",
       "2020-12-01                                        2204.6   \n",
       "\n",
       "            Management consulting services  \n",
       "2020-08-01                          1226.7  \n",
       "2020-09-01                          1227.5  \n",
       "2020-10-01                          1253.6  \n",
       "2020-11-01                          1256.7  \n",
       "2020-12-01                          1270.0  "
      ]
     },
     "execution_count": 25,
     "metadata": {},
     "output_type": "execute_result"
    }
   ],
   "source": [
    "# Date index from first series\n",
    "date_list = [f\"{i['year']}-{i['period'][1:]}-01\" for i in p[0]['data']]\n",
    "\n",
    "# Empty dataframe to fill with values\n",
    "df = pd.DataFrame()\n",
    "\n",
    "# Build a pandas series from the API results, p\n",
    "for s in p:\n",
    "    df[series_dict[s['seriesID']]] = pd.Series(\n",
    "        index = pd.to_datetime(date_list),\n",
    "        data = [i['value'] for i in s['data']]\n",
    "        ).astype(float).iloc[::-1]\n",
    "\n",
    "# Show last 5 results\n",
    "df.tail()"
   ]
  },
  {
   "cell_type": "code",
   "execution_count": 26,
   "id": "232188ca",
   "metadata": {},
   "outputs": [
    {
     "data": {
      "text/plain": [
       "<AxesSubplot:title={'center':'Total Multi-Sector Employment, Seasonally Adjusted (Thousands)'}>"
      ]
     },
     "execution_count": 26,
     "metadata": {},
     "output_type": "execute_result"
    },
    {
     "data": {
      "image/png": "[encoded data removed]",
      "text/plain": [
       "<Figure size 432x288 with 1 Axes>"
      ]
     },
     "metadata": {
      "needs_background": "light"
     },
     "output_type": "display_data"
    }
   ],
   "source": [
    "# Simple line plot of the data\n",
    "df.plot(title='Total Multi-Sector Employment, Seasonally Adjusted (Thousands)')"
   ]
  },
  {
   "cell_type": "markdown",
   "id": "0efebc6c",
   "metadata": {},
   "source": []
  },
  {
   "cell_type": "markdown",
   "id": "3896ed2c",
   "metadata": {},
   "source": []
  },
  {
   "cell_type": "markdown",
   "id": "77afd702",
   "metadata": {},
   "source": []
  }
 ],
 "metadata": {
  "kernelspec": {
   "display_name": "Python 3",
   "language": "python",
   "name": "python3"
  },
  "language_info": {
   "codemirror_mode": {
    "name": "ipython",
    "version": 3
   },
   "file_extension": ".py",
   "mimetype": "text/x-python",
   "name": "python",
   "nbconvert_exporter": "python",
   "pygments_lexer": "ipython3",
   "version": "3.8.8"
  }
 },
 "nbformat": 4,
 "nbformat_minor": 5
}
