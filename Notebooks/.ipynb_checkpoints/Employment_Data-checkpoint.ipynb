{
 "cells": [
  {
   "cell_type": "code",
   "execution_count": 1,
   "id": "34c20fdc",
   "metadata": {},
   "outputs": [],
   "source": [
    "import requests\n",
    "import json\n",
    "import prettytable\n",
    "import os\n",
    "import pandas as pd\n",
    "import dtale\n",
    "import plotly.express as px \n",
    "import numpy as np\n",
    "import matplotlib.pyplot as plt\n",
    "import seaborn as sns\n",
    "%matplotlib inline\n",
    "import re\n",
    "import time\n",
    "from datetime import datetime\n",
    "import matplotlib.dates as mdates\n",
    "import matplotlib.ticker as ticker\n",
    "from urllib.request import urlopen\n",
    "from bs4 import BeautifulSoup"
   ]
  },
  {
   "cell_type": "code",
   "execution_count": 2,
   "id": "c526875d",
   "metadata": {},
   "outputs": [],
   "source": [
    "# BLS API v1 url\n",
    "base_url = 'https://api.bls.gov/publicAPI/v1/timeseries/data/'"
   ]
  },
  {
   "cell_type": "code",
   "execution_count": 3,
   "id": "0044c278",
   "metadata": {},
   "outputs": [],
   "source": [
    "# BLS series id for the civilian labor force participation rate\n",
    "series = {'id': 'CEU0800000003',\n",
    "          'name': 'National Employment, Hours, and Earnings'}"
   ]
  },
  {
   "cell_type": "code",
   "execution_count": 4,
   "id": "50be05d8",
   "metadata": {},
   "outputs": [
    {
     "name": "stdout",
     "output_type": "stream",
     "text": [
      "https://api.bls.gov/publicAPI/v1/timeseries/data/CEU0800000003\n"
     ]
    }
   ],
   "source": [
    "data_url = '{}{}'.format(base_url, series['id'])\n",
    "print(data_url)"
   ]
  },
  {
   "cell_type": "code",
   "execution_count": 5,
   "id": "0a2cd3be",
   "metadata": {},
   "outputs": [
    {
     "name": "stdout",
     "output_type": "stream",
     "text": [
      "Status: REQUEST_SUCCEEDED\n"
     ]
    }
   ],
   "source": [
    "r = requests.get(data_url).json()\n",
    "print('Status: ' + r['status'])"
   ]
  },
  {
   "cell_type": "code",
   "execution_count": 6,
   "id": "142081f9",
   "metadata": {},
   "outputs": [
    {
     "name": "stdout",
     "output_type": "stream",
     "text": [
      "dict_keys(['status', 'responseTime', 'message', 'Results'])\n"
     ]
    }
   ],
   "source": [
    "print(r.keys())"
   ]
  },
  {
   "cell_type": "code",
   "execution_count": 7,
   "id": "690b5186",
   "metadata": {},
   "outputs": [
    {
     "name": "stdout",
     "output_type": "stream",
     "text": [
      "{'year': '2021', 'period': 'M11', 'periodName': 'November', 'latest': 'true', 'value': '30.86', 'footnotes': [{'code': 'P', 'text': 'preliminary'}]}\n"
     ]
    }
   ],
   "source": [
    "r = r['Results']['series'][0]['data']\n",
    "print(r[0])"
   ]
  },
  {
   "cell_type": "code",
   "execution_count": 8,
   "id": "5cd6f18a",
   "metadata": {},
   "outputs": [
    {
     "data": {
      "text/html": [
       "<div>\n",
       "<style scoped>\n",
       "    .dataframe tbody tr th:only-of-type {\n",
       "        vertical-align: middle;\n",
       "    }\n",
       "\n",
       "    .dataframe tbody tr th {\n",
       "        vertical-align: top;\n",
       "    }\n",
       "\n",
       "    .dataframe thead th {\n",
       "        text-align: right;\n",
       "    }\n",
       "</style>\n",
       "<table border=\"1\" class=\"dataframe\">\n",
       "  <thead>\n",
       "    <tr style=\"text-align: right;\">\n",
       "      <th></th>\n",
       "      <th>CEU0800000003</th>\n",
       "      <th>footnotes</th>\n",
       "    </tr>\n",
       "  </thead>\n",
       "  <tbody>\n",
       "    <tr>\n",
       "      <th>2019-01-01 00:00:01</th>\n",
       "      <td>27.51</td>\n",
       "      <td>{}</td>\n",
       "    </tr>\n",
       "    <tr>\n",
       "      <th>2019-01-01 00:00:02</th>\n",
       "      <td>27.58</td>\n",
       "      <td>{}</td>\n",
       "    </tr>\n",
       "    <tr>\n",
       "      <th>2019-01-01 00:00:03</th>\n",
       "      <td>27.57</td>\n",
       "      <td>{}</td>\n",
       "    </tr>\n",
       "    <tr>\n",
       "      <th>2019-01-01 00:00:04</th>\n",
       "      <td>27.63</td>\n",
       "      <td>{}</td>\n",
       "    </tr>\n",
       "    <tr>\n",
       "      <th>2019-01-01 00:00:05</th>\n",
       "      <td>27.53</td>\n",
       "      <td>{}</td>\n",
       "    </tr>\n",
       "  </tbody>\n",
       "</table>\n",
       "</div>"
      ],
      "text/plain": [
       "                     CEU0800000003 footnotes\n",
       "2019-01-01 00:00:01          27.51        {}\n",
       "2019-01-01 00:00:02          27.58        {}\n",
       "2019-01-01 00:00:03          27.57        {}\n",
       "2019-01-01 00:00:04          27.63        {}\n",
       "2019-01-01 00:00:05          27.53        {}"
      ]
     },
     "execution_count": 8,
     "metadata": {},
     "output_type": "execute_result"
    }
   ],
   "source": [
    "import pandas as pd\n",
    "\n",
    "dates = ['{} {}'.format(i['period'], i['year']) for i in r]\n",
    "index = pd.to_datetime(dates)\n",
    "data = {series['id']: [float(i['value']) for i in r],\n",
    "        'footnotes': [i['footnotes'][0] for i in r]}\n",
    "\n",
    "df = pd.DataFrame(index=index, data=data).iloc[::-1]\n",
    "\n",
    "df.head()"
   ]
  },
  {
   "cell_type": "code",
   "execution_count": 9,
   "id": "9b466c8b",
   "metadata": {},
   "outputs": [
    {
     "data": {
      "text/plain": [
       "<AxesSubplot:title={'center':'National Employment, Hours, and Earnings'}>"
      ]
     },
     "execution_count": 9,
     "metadata": {},
     "output_type": "execute_result"
    },
    {
     "data": {
      "image/png": "[encoded data removed]",
      "text/plain": [
       "<Figure size 432x288 with 1 Axes>"
      ]
     },
     "metadata": {
      "needs_background": "light"
     },
     "output_type": "display_data"
    }
   ],
   "source": [
    "%matplotlib inline\n",
    "\n",
    "df['mean'] = df[series['id']].mean()\n",
    "df[[series['id'], 'mean']].plot(title=series['name'])"
   ]
  },
  {
   "cell_type": "markdown",
   "id": "ba8726c1",
   "metadata": {},
   "source": [
    "# National employment, hours, and earnings - Series ID CEU0800000003"
   ]
  },
  {
   "cell_type": "code",
   "execution_count": 10,
   "id": "323d9c64",
   "metadata": {},
   "outputs": [],
   "source": [
    "bls_key = os.environ.get('bls_key')"
   ]
  },
  {
   "cell_type": "code",
   "execution_count": 25,
   "id": "7772f7d7",
   "metadata": {},
   "outputs": [],
   "source": [
    "#api key has been saved in the environment\n",
    "\n",
    "\n",
    "# The url for BLS API v2\n",
    "url = 'https://api.bls.gov/publicAPI/v2/timeseries/data/'\n",
    "\n",
    "# API key in config.py which contains: bls_key = 'key'\n",
    "key = '?registrationkey={}'.format(bls_key)\n",
    "\n",
    "# Series stored as a dictionary\n",
    "series_dict = {\n",
    "    'CEU0800000003': 'National employment, hours, and earnings'}\n",
    "\n",
    "# Start year and end year\n",
    "dates = ('2018', '2021')"
   ]
  },
  {
   "cell_type": "code",
   "execution_count": 26,
   "id": "eed976ae",
   "metadata": {},
   "outputs": [],
   "source": [
    "import json\n",
    "\n",
    "# Specify json as content type to return\n",
    "headers = {'Content-type': 'application/json'}\n",
    "\n",
    "# Submit the list of series as data\n",
    "data = json.dumps({\n",
    "    \"seriesid\": list(series_dict.keys()),\n",
    "    \"startyear\": dates[0],\n",
    "    \"endyear\": dates[1]})\n",
    "\n",
    "# Post request for the data\n",
    "p = requests.post(\n",
    "    '{}{}'.format(url, key),\n",
    "    headers=headers,\n",
    "    data=data).json()['Results']['series']"
   ]
  },
  {
   "cell_type": "code",
   "execution_count": 27,
   "id": "7c206f59",
   "metadata": {},
   "outputs": [
    {
     "data": {
      "text/html": [
       "<div>\n",
       "<style scoped>\n",
       "    .dataframe tbody tr th:only-of-type {\n",
       "        vertical-align: middle;\n",
       "    }\n",
       "\n",
       "    .dataframe tbody tr th {\n",
       "        vertical-align: top;\n",
       "    }\n",
       "\n",
       "    .dataframe thead th {\n",
       "        text-align: right;\n",
       "    }\n",
       "</style>\n",
       "<table border=\"1\" class=\"dataframe\">\n",
       "  <thead>\n",
       "    <tr style=\"text-align: right;\">\n",
       "      <th></th>\n",
       "      <th>National employment, hours, and earnings</th>\n",
       "    </tr>\n",
       "  </thead>\n",
       "  <tbody>\n",
       "    <tr>\n",
       "      <th>2021-07-01</th>\n",
       "      <td>30.24</td>\n",
       "    </tr>\n",
       "    <tr>\n",
       "      <th>2021-08-01</th>\n",
       "      <td>30.59</td>\n",
       "    </tr>\n",
       "    <tr>\n",
       "      <th>2021-09-01</th>\n",
       "      <td>30.66</td>\n",
       "    </tr>\n",
       "    <tr>\n",
       "      <th>2021-10-01</th>\n",
       "      <td>30.80</td>\n",
       "    </tr>\n",
       "    <tr>\n",
       "      <th>2021-11-01</th>\n",
       "      <td>30.86</td>\n",
       "    </tr>\n",
       "  </tbody>\n",
       "</table>\n",
       "</div>"
      ],
      "text/plain": [
       "            National employment, hours, and earnings\n",
       "2021-07-01                                     30.24\n",
       "2021-08-01                                     30.59\n",
       "2021-09-01                                     30.66\n",
       "2021-10-01                                     30.80\n",
       "2021-11-01                                     30.86"
      ]
     },
     "execution_count": 27,
     "metadata": {},
     "output_type": "execute_result"
    }
   ],
   "source": [
    "# Date index from first series\n",
    "date_list = [f\"{i['year']}-{i['period'][1:]}-01\" for i in p[0]['data']]\n",
    "\n",
    "# Empty dataframe to fill with values\n",
    "df = pd.DataFrame()\n",
    "\n",
    "# Build a pandas series from the API results, p\n",
    "for s in p:\n",
    "    df[series_dict[s['seriesID']]] = pd.Series(\n",
    "        index = pd.to_datetime(date_list),\n",
    "        data = [i['value'] for i in s['data']]\n",
    "        ).astype(float).iloc[::-1]\n",
    "\n",
    "# Show last 5 results\n",
    "df.tail()"
   ]
  },
  {
   "cell_type": "code",
   "execution_count": 28,
   "id": "39e9dd5a",
   "metadata": {},
   "outputs": [
    {
     "data": {
      "text/plain": [
       "<AxesSubplot:title={'center':'National employment, hours, and earnings'}>"
      ]
     },
     "execution_count": 28,
     "metadata": {},
     "output_type": "execute_result"
    },
    {
     "data": {
      "image/png": "[encoded data removed]",
      "text/plain": [
       "<Figure size 432x288 with 1 Axes>"
      ]
     },
     "metadata": {
      "needs_background": "light"
     },
     "output_type": "display_data"
    }
   ],
   "source": [
    "# Simple line plot of the data\n",
    "df.plot(title='National employment, hours, and earnings')"
   ]
  },
  {
   "cell_type": "markdown",
   "id": "504e814e",
   "metadata": {},
   "source": [
    "# Total Nonfarm Employment, Seasonally Adjusted - CES0000000001"
   ]
  },
  {
   "cell_type": "code",
   "execution_count": 30,
   "id": "9ea962a0",
   "metadata": {},
   "outputs": [],
   "source": [
    "# Series stored as a dictionary\n",
    "series_dict = {\n",
    "    'CES0000000001': 'Total Nonfarm Employment, Seasonally Adjusted'}\n",
    "\n",
    "# Start year and end year\n",
    "dates = ('2018', '2021')\n",
    "\n",
    "# Specify json as content type to return\n",
    "headers = {'Content-type': 'application/json'}\n",
    "\n",
    "# Submit the list of series as data\n",
    "data = json.dumps({\n",
    "    \"seriesid\": list(series_dict.keys()),\n",
    "    \"startyear\": dates[0],\n",
    "    \"endyear\": dates[1]})\n",
    "\n",
    "# Post request for the data\n",
    "p = requests.post(\n",
    "    '{}{}'.format(url, key),\n",
    "    headers=headers,\n",
    "    data=data).json()['Results']['series']"
   ]
  },
  {
   "cell_type": "code",
   "execution_count": 31,
   "id": "c4ee0caf",
   "metadata": {},
   "outputs": [
    {
     "data": {
      "text/html": [
       "<div>\n",
       "<style scoped>\n",
       "    .dataframe tbody tr th:only-of-type {\n",
       "        vertical-align: middle;\n",
       "    }\n",
       "\n",
       "    .dataframe tbody tr th {\n",
       "        vertical-align: top;\n",
       "    }\n",
       "\n",
       "    .dataframe thead th {\n",
       "        text-align: right;\n",
       "    }\n",
       "</style>\n",
       "<table border=\"1\" class=\"dataframe\">\n",
       "  <thead>\n",
       "    <tr style=\"text-align: right;\">\n",
       "      <th></th>\n",
       "      <th>Total Nonfarm Employment, Seasonally Adjusted</th>\n",
       "    </tr>\n",
       "  </thead>\n",
       "  <tbody>\n",
       "    <tr>\n",
       "      <th>2021-07-01</th>\n",
       "      <td>146993.0</td>\n",
       "    </tr>\n",
       "    <tr>\n",
       "      <th>2021-08-01</th>\n",
       "      <td>147476.0</td>\n",
       "    </tr>\n",
       "    <tr>\n",
       "      <th>2021-09-01</th>\n",
       "      <td>147855.0</td>\n",
       "    </tr>\n",
       "    <tr>\n",
       "      <th>2021-10-01</th>\n",
       "      <td>148401.0</td>\n",
       "    </tr>\n",
       "    <tr>\n",
       "      <th>2021-11-01</th>\n",
       "      <td>148611.0</td>\n",
       "    </tr>\n",
       "  </tbody>\n",
       "</table>\n",
       "</div>"
      ],
      "text/plain": [
       "            Total Nonfarm Employment, Seasonally Adjusted\n",
       "2021-07-01                                       146993.0\n",
       "2021-08-01                                       147476.0\n",
       "2021-09-01                                       147855.0\n",
       "2021-10-01                                       148401.0\n",
       "2021-11-01                                       148611.0"
      ]
     },
     "execution_count": 31,
     "metadata": {},
     "output_type": "execute_result"
    }
   ],
   "source": [
    "# Date index from first series\n",
    "date_list = [f\"{i['year']}-{i['period'][1:]}-01\" for i in p[0]['data']]\n",
    "\n",
    "# Empty dataframe to fill with values\n",
    "df = pd.DataFrame()\n",
    "\n",
    "# Build a pandas series from the API results, p\n",
    "for s in p:\n",
    "    df[series_dict[s['seriesID']]] = pd.Series(\n",
    "        index = pd.to_datetime(date_list),\n",
    "        data = [i['value'] for i in s['data']]\n",
    "        ).astype(float).iloc[::-1]\n",
    "\n",
    "# Show last 5 results\n",
    "df.tail()"
   ]
  },
  {
   "cell_type": "code",
   "execution_count": null,
   "id": "eaf78a36",
   "metadata": {},
   "outputs": [],
   "source": []
  },
  {
   "cell_type": "code",
   "execution_count": null,
   "id": "3a18d213",
   "metadata": {},
   "outputs": [],
   "source": []
  },
  {
   "cell_type": "code",
   "execution_count": null,
   "id": "6160fdad",
   "metadata": {},
   "outputs": [],
   "source": []
  },
  {
   "cell_type": "code",
   "execution_count": null,
   "id": "335822d3",
   "metadata": {},
   "outputs": [],
   "source": []
  }
 ],
 "metadata": {
  "kernelspec": {
   "display_name": "Python 3",
   "language": "python",
   "name": "python3"
  },
  "language_info": {
   "codemirror_mode": {
    "name": "ipython",
    "version": 3
   },
   "file_extension": ".py",
   "mimetype": "text/x-python",
   "name": "python",
   "nbconvert_exporter": "python",
   "pygments_lexer": "ipython3",
   "version": "3.8.8"
  }
 },
 "nbformat": 4,
 "nbformat_minor": 5
}
