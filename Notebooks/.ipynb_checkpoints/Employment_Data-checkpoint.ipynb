{
 "cells": [
  {
   "cell_type": "code",
   "execution_count": 1,
   "id": "34c20fdc",
   "metadata": {},
   "outputs": [],
   "source": [
    "import requests\n",
    "import json\n",
    "import prettytable\n",
    "import os\n",
    "import pandas as pd\n",
    "import dtale\n",
    "import plotly.express as px \n",
    "import numpy as np\n",
    "import matplotlib.pyplot as plt\n",
    "import seaborn as sns\n",
    "%matplotlib inline\n",
    "import re\n",
    "import time\n",
    "from datetime import datetime\n",
    "import matplotlib.dates as mdates\n",
    "import matplotlib.ticker as ticker\n",
    "from urllib.request import urlopen\n",
    "from bs4 import BeautifulSoup"
   ]
  },
  {
   "cell_type": "code",
   "execution_count": 2,
   "id": "c526875d",
   "metadata": {},
   "outputs": [],
   "source": [
    "# BLS API v1 url\n",
    "base_url = 'https://api.bls.gov/publicAPI/v1/timeseries/data/'"
   ]
  },
  {
   "cell_type": "code",
   "execution_count": 3,
   "id": "0044c278",
   "metadata": {},
   "outputs": [],
   "source": [
    "# BLS series id for the civilian labor force participation rate\n",
    "series = {'id': 'CEU0800000003',\n",
    "          'name': 'National Employment, Hours, and Earnings'}"
   ]
  },
  {
   "cell_type": "code",
   "execution_count": 4,
   "id": "50be05d8",
   "metadata": {},
   "outputs": [
    {
     "name": "stdout",
     "output_type": "stream",
     "text": [
      "https://api.bls.gov/publicAPI/v1/timeseries/data/CEU0800000003\n"
     ]
    }
   ],
   "source": [
    "data_url = '{}{}'.format(base_url, series['id'])\n",
    "print(data_url)"
   ]
  },
  {
   "cell_type": "code",
   "execution_count": 5,
   "id": "0a2cd3be",
   "metadata": {},
   "outputs": [
    {
     "name": "stdout",
     "output_type": "stream",
     "text": [
      "Status: REQUEST_SUCCEEDED\n"
     ]
    }
   ],
   "source": [
    "r = requests.get(data_url).json()\n",
    "print('Status: ' + r['status'])"
   ]
  },
  {
   "cell_type": "code",
   "execution_count": 6,
   "id": "142081f9",
   "metadata": {},
   "outputs": [
    {
     "name": "stdout",
     "output_type": "stream",
     "text": [
      "dict_keys(['status', 'responseTime', 'message', 'Results'])\n"
     ]
    }
   ],
   "source": [
    "print(r.keys())"
   ]
  },
  {
   "cell_type": "code",
   "execution_count": 7,
   "id": "690b5186",
   "metadata": {},
   "outputs": [
    {
     "name": "stdout",
     "output_type": "stream",
     "text": [
      "{'year': '2021', 'period': 'M11', 'periodName': 'November', 'latest': 'true', 'value': '30.86', 'footnotes': [{'code': 'P', 'text': 'preliminary'}]}\n"
     ]
    }
   ],
   "source": [
    "r = r['Results']['series'][0]['data']\n",
    "print(r[0])"
   ]
  },
  {
   "cell_type": "code",
   "execution_count": 8,
   "id": "5cd6f18a",
   "metadata": {},
   "outputs": [
    {
     "data": {
      "text/html": [
       "<div>\n",
       "<style scoped>\n",
       "    .dataframe tbody tr th:only-of-type {\n",
       "        vertical-align: middle;\n",
       "    }\n",
       "\n",
       "    .dataframe tbody tr th {\n",
       "        vertical-align: top;\n",
       "    }\n",
       "\n",
       "    .dataframe thead th {\n",
       "        text-align: right;\n",
       "    }\n",
       "</style>\n",
       "<table border=\"1\" class=\"dataframe\">\n",
       "  <thead>\n",
       "    <tr style=\"text-align: right;\">\n",
       "      <th></th>\n",
       "      <th>CEU0800000003</th>\n",
       "      <th>footnotes</th>\n",
       "    </tr>\n",
       "  </thead>\n",
       "  <tbody>\n",
       "    <tr>\n",
       "      <th>2019-01-01 00:00:01</th>\n",
       "      <td>27.51</td>\n",
       "      <td>{}</td>\n",
       "    </tr>\n",
       "    <tr>\n",
       "      <th>2019-01-01 00:00:02</th>\n",
       "      <td>27.58</td>\n",
       "      <td>{}</td>\n",
       "    </tr>\n",
       "    <tr>\n",
       "      <th>2019-01-01 00:00:03</th>\n",
       "      <td>27.57</td>\n",
       "      <td>{}</td>\n",
       "    </tr>\n",
       "    <tr>\n",
       "      <th>2019-01-01 00:00:04</th>\n",
       "      <td>27.63</td>\n",
       "      <td>{}</td>\n",
       "    </tr>\n",
       "    <tr>\n",
       "      <th>2019-01-01 00:00:05</th>\n",
       "      <td>27.53</td>\n",
       "      <td>{}</td>\n",
       "    </tr>\n",
       "  </tbody>\n",
       "</table>\n",
       "</div>"
      ],
      "text/plain": [
       "                     CEU0800000003 footnotes\n",
       "2019-01-01 00:00:01          27.51        {}\n",
       "2019-01-01 00:00:02          27.58        {}\n",
       "2019-01-01 00:00:03          27.57        {}\n",
       "2019-01-01 00:00:04          27.63        {}\n",
       "2019-01-01 00:00:05          27.53        {}"
      ]
     },
     "execution_count": 8,
     "metadata": {},
     "output_type": "execute_result"
    }
   ],
   "source": [
    "import pandas as pd\n",
    "\n",
    "dates = ['{} {}'.format(i['period'], i['year']) for i in r]\n",
    "index = pd.to_datetime(dates)\n",
    "data = {series['id']: [float(i['value']) for i in r],\n",
    "        'footnotes': [i['footnotes'][0] for i in r]}\n",
    "\n",
    "df = pd.DataFrame(index=index, data=data).iloc[::-1]\n",
    "\n",
    "df.head()"
   ]
  },
  {
   "cell_type": "code",
   "execution_count": 9,
   "id": "9b466c8b",
   "metadata": {},
   "outputs": [
    {
     "data": {
      "text/plain": [
       "<AxesSubplot:title={'center':'National Employment, Hours, and Earnings'}>"
      ]
     },
     "execution_count": 9,
     "metadata": {},
     "output_type": "execute_result"
    },
    {
     "data": {
      "image/png": "[encoded data removed]",
      "text/plain": [
       "<Figure size 432x288 with 1 Axes>"
      ]
     },
     "metadata": {
      "needs_background": "light"
     },
     "output_type": "display_data"
    }
   ],
   "source": [
    "%matplotlib inline\n",
    "\n",
    "df['mean'] = df[series['id']].mean()\n",
    "df[[series['id'], 'mean']].plot(title=series['name'])"
   ]
  },
  {
   "cell_type": "markdown",
   "id": "c03c0767",
   "metadata": {},
   "source": [
    "# National employment, hours, and earnings - Series ID CEU0800000003"
   ]
  },
  {
   "cell_type": "code",
   "execution_count": 10,
   "id": "323d9c64",
   "metadata": {},
   "outputs": [],
   "source": [
    "bls_key = os.environ.get('bls_key')"
   ]
  },
  {
   "cell_type": "code",
   "execution_count": 25,
   "id": "7772f7d7",
   "metadata": {},
   "outputs": [],
   "source": [
    "#api key has been saved in the environment\n",
    "\n",
    "\n",
    "# The url for BLS API v2\n",
    "url = 'https://api.bls.gov/publicAPI/v2/timeseries/data/'\n",
    "\n",
    "# API key in config.py which contains: bls_key = 'key'\n",
    "key = '?registrationkey={}'.format(bls_key)\n",
    "\n",
    "# Series stored as a dictionary\n",
    "series_dict = {\n",
    "    'CEU0800000003': 'National employment, hours, and earnings'}\n",
    "\n",
    "# Start year and end year\n",
    "dates = ('2018', '2021')"
   ]
  },
  {
   "cell_type": "code",
   "execution_count": 26,
   "id": "eed976ae",
   "metadata": {},
   "outputs": [],
   "source": [
    "import json\n",
    "\n",
    "# Specify json as content type to return\n",
    "headers = {'Content-type': 'application/json'}\n",
    "\n",
    "# Submit the list of series as data\n",
    "data = json.dumps({\n",
    "    \"seriesid\": list(series_dict.keys()),\n",
    "    \"startyear\": dates[0],\n",
    "    \"endyear\": dates[1]})\n",
    "\n",
    "# Post request for the data\n",
    "p = requests.post(\n",
    "    '{}{}'.format(url, key),\n",
    "    headers=headers,\n",
    "    data=data).json()['Results']['series']"
   ]
  },
  {
   "cell_type": "code",
   "execution_count": 27,
   "id": "7c206f59",
   "metadata": {},
   "outputs": [
    {
     "data": {
      "text/html": [
       "<div>\n",
       "<style scoped>\n",
       "    .dataframe tbody tr th:only-of-type {\n",
       "        vertical-align: middle;\n",
       "    }\n",
       "\n",
       "    .dataframe tbody tr th {\n",
       "        vertical-align: top;\n",
       "    }\n",
       "\n",
       "    .dataframe thead th {\n",
       "        text-align: right;\n",
       "    }\n",
       "</style>\n",
       "<table border=\"1\" class=\"dataframe\">\n",
       "  <thead>\n",
       "    <tr style=\"text-align: right;\">\n",
       "      <th></th>\n",
       "      <th>National employment, hours, and earnings</th>\n",
       "    </tr>\n",
       "  </thead>\n",
       "  <tbody>\n",
       "    <tr>\n",
       "      <th>2021-07-01</th>\n",
       "      <td>30.24</td>\n",
       "    </tr>\n",
       "    <tr>\n",
       "      <th>2021-08-01</th>\n",
       "      <td>30.59</td>\n",
       "    </tr>\n",
       "    <tr>\n",
       "      <th>2021-09-01</th>\n",
       "      <td>30.66</td>\n",
       "    </tr>\n",
       "    <tr>\n",
       "      <th>2021-10-01</th>\n",
       "      <td>30.80</td>\n",
       "    </tr>\n",
       "    <tr>\n",
       "      <th>2021-11-01</th>\n",
       "      <td>30.86</td>\n",
       "    </tr>\n",
       "  </tbody>\n",
       "</table>\n",
       "</div>"
      ],
      "text/plain": [
       "            National employment, hours, and earnings\n",
       "2021-07-01                                     30.24\n",
       "2021-08-01                                     30.59\n",
       "2021-09-01                                     30.66\n",
       "2021-10-01                                     30.80\n",
       "2021-11-01                                     30.86"
      ]
     },
     "execution_count": 27,
     "metadata": {},
     "output_type": "execute_result"
    }
   ],
   "source": [
    "# Date index from first series\n",
    "date_list = [f\"{i['year']}-{i['period'][1:]}-01\" for i in p[0]['data']]\n",
    "\n",
    "# Empty dataframe to fill with values\n",
    "df = pd.DataFrame()\n",
    "\n",
    "# Build a pandas series from the API results, p\n",
    "for s in p:\n",
    "    df[series_dict[s['seriesID']]] = pd.Series(\n",
    "        index = pd.to_datetime(date_list),\n",
    "        data = [i['value'] for i in s['data']]\n",
    "        ).astype(float).iloc[::-1]\n",
    "\n",
    "# Show last 5 results\n",
    "df.tail()"
   ]
  },
  {
   "cell_type": "code",
   "execution_count": 28,
   "id": "39e9dd5a",
   "metadata": {},
   "outputs": [
    {
     "data": {
      "text/plain": [
       "<AxesSubplot:title={'center':'National employment, hours, and earnings'}>"
      ]
     },
     "execution_count": 28,
     "metadata": {},
     "output_type": "execute_result"
    },
    {
     "data": {
      "image/png": "[encoded data removed]",
      "text/plain": [
       "<Figure size 432x288 with 1 Axes>"
      ]
     },
     "metadata": {
      "needs_background": "light"
     },
     "output_type": "display_data"
    }
   ],
   "source": [
    "# Simple line plot of the data\n",
    "df.plot(title='National employment, hours, and earnings')"
   ]
  },
  {
   "cell_type": "markdown",
   "id": "4cfadc85",
   "metadata": {},
   "source": [
    "# Survey Legend:\n",
    "* Series ID    CEU0800000003\n",
    "* Positions       Value           Field Name\n",
    "* 1-2             CE              Prefix\n",
    "* 3               U               Seasonal Adjustment Code\n",
    "* 4-11\t\t08000000\tSupersector and Industry Codes\n",
    "* 12-13           03              Data Type Code"
   ]
  },
  {
   "cell_type": "markdown",
   "id": "60599788",
   "metadata": {},
   "source": [
    "# Total Nonfarm Employment, Seasonally Adjusted - CES0000000001\n",
    "# Total Private Employment, Seasonally Adjusted - CES0500000001\n",
    "# Manufacturing Employment, Seasonally Adjusted - CES3000000001\n",
    "# Government Employment, Seasonally Adjusted - CES9000000001"
   ]
  },
  {
   "cell_type": "code",
   "execution_count": 37,
   "id": "a5f77da1",
   "metadata": {},
   "outputs": [],
   "source": [
    "# Series stored as a dictionary; \n",
    "series_dict = {\n",
    "    'CES0000000001': 'Total Nonfarm Employment, Seasonally Adjusted',\n",
    "    'CES0500000001': 'Total Private Employment, Seasonally Adjusted',\n",
    "    'CES3000000001': 'Manufacturing Employment, Seasonally Adjusted',\n",
    "    'CES9000000001': 'Government Employment, Seasonally Adjusted'}\n",
    "\n",
    "# Start year and end year\n",
    "dates = ('2018', '2021')\n",
    "\n",
    "# Specify json as content type to return\n",
    "headers = {'Content-type': 'application/json'}\n",
    "\n",
    "# Submit the list of series as data\n",
    "data = json.dumps({\n",
    "    \"seriesid\": list(series_dict.keys()),\n",
    "    \"startyear\": dates[0],\n",
    "    \"endyear\": dates[1]})\n",
    "\n",
    "# Post request for the data\n",
    "p = requests.post(\n",
    "    '{}{}'.format(url, key),\n",
    "    headers=headers,\n",
    "    data=data).json()['Results']['series']"
   ]
  },
  {
   "cell_type": "code",
   "execution_count": 38,
   "id": "f091eac1",
   "metadata": {},
   "outputs": [
    {
     "data": {
      "text/html": [
       "<div>\n",
       "<style scoped>\n",
       "    .dataframe tbody tr th:only-of-type {\n",
       "        vertical-align: middle;\n",
       "    }\n",
       "\n",
       "    .dataframe tbody tr th {\n",
       "        vertical-align: top;\n",
       "    }\n",
       "\n",
       "    .dataframe thead th {\n",
       "        text-align: right;\n",
       "    }\n",
       "</style>\n",
       "<table border=\"1\" class=\"dataframe\">\n",
       "  <thead>\n",
       "    <tr style=\"text-align: right;\">\n",
       "      <th></th>\n",
       "      <th>Total Nonfarm Employment, Seasonally Adjusted</th>\n",
       "      <th>Total Private Employment, Seasonally Adjusted</th>\n",
       "      <th>Manufacturing Employment, Seasonally Adjusted</th>\n",
       "      <th>Government Employment, Seasonally Adjusted</th>\n",
       "    </tr>\n",
       "  </thead>\n",
       "  <tbody>\n",
       "    <tr>\n",
       "      <th>2021-07-01</th>\n",
       "      <td>146993.0</td>\n",
       "      <td>124920.0</td>\n",
       "      <td>12389.0</td>\n",
       "      <td>22073.0</td>\n",
       "    </tr>\n",
       "    <tr>\n",
       "      <th>2021-08-01</th>\n",
       "      <td>147476.0</td>\n",
       "      <td>125424.0</td>\n",
       "      <td>12438.0</td>\n",
       "      <td>22052.0</td>\n",
       "    </tr>\n",
       "    <tr>\n",
       "      <th>2021-09-01</th>\n",
       "      <td>147855.0</td>\n",
       "      <td>125848.0</td>\n",
       "      <td>12467.0</td>\n",
       "      <td>22007.0</td>\n",
       "    </tr>\n",
       "    <tr>\n",
       "      <th>2021-10-01</th>\n",
       "      <td>148401.0</td>\n",
       "      <td>126476.0</td>\n",
       "      <td>12515.0</td>\n",
       "      <td>21925.0</td>\n",
       "    </tr>\n",
       "    <tr>\n",
       "      <th>2021-11-01</th>\n",
       "      <td>148611.0</td>\n",
       "      <td>126711.0</td>\n",
       "      <td>12546.0</td>\n",
       "      <td>21900.0</td>\n",
       "    </tr>\n",
       "  </tbody>\n",
       "</table>\n",
       "</div>"
      ],
      "text/plain": [
       "            Total Nonfarm Employment, Seasonally Adjusted  \\\n",
       "2021-07-01                                       146993.0   \n",
       "2021-08-01                                       147476.0   \n",
       "2021-09-01                                       147855.0   \n",
       "2021-10-01                                       148401.0   \n",
       "2021-11-01                                       148611.0   \n",
       "\n",
       "            Total Private Employment, Seasonally Adjusted  \\\n",
       "2021-07-01                                       124920.0   \n",
       "2021-08-01                                       125424.0   \n",
       "2021-09-01                                       125848.0   \n",
       "2021-10-01                                       126476.0   \n",
       "2021-11-01                                       126711.0   \n",
       "\n",
       "            Manufacturing Employment, Seasonally Adjusted  \\\n",
       "2021-07-01                                        12389.0   \n",
       "2021-08-01                                        12438.0   \n",
       "2021-09-01                                        12467.0   \n",
       "2021-10-01                                        12515.0   \n",
       "2021-11-01                                        12546.0   \n",
       "\n",
       "            Government Employment, Seasonally Adjusted  \n",
       "2021-07-01                                     22073.0  \n",
       "2021-08-01                                     22052.0  \n",
       "2021-09-01                                     22007.0  \n",
       "2021-10-01                                     21925.0  \n",
       "2021-11-01                                     21900.0  "
      ]
     },
     "execution_count": 38,
     "metadata": {},
     "output_type": "execute_result"
    }
   ],
   "source": [
    "# Date index from first series\n",
    "date_list = [f\"{i['year']}-{i['period'][1:]}-01\" for i in p[0]['data']]\n",
    "\n",
    "# Empty dataframe to fill with values\n",
    "df = pd.DataFrame()\n",
    "\n",
    "# Build a pandas series from the API results, p\n",
    "for s in p:\n",
    "    df[series_dict[s['seriesID']]] = pd.Series(\n",
    "        index = pd.to_datetime(date_list),\n",
    "        data = [i['value'] for i in s['data']]\n",
    "        ).astype(float).iloc[::-1]\n",
    "\n",
    "# Show last 5 results\n",
    "df.tail()"
   ]
  },
  {
   "cell_type": "code",
   "execution_count": 39,
   "id": "0d846537",
   "metadata": {},
   "outputs": [
    {
     "data": {
      "text/plain": [
       "<AxesSubplot:title={'center':'Total Multi-Sector Employment, Seasonally Adjusted (Thousands)'}>"
      ]
     },
     "execution_count": 39,
     "metadata": {},
     "output_type": "execute_result"
    },
    {
     "data": {
      "image/png": "[encoded data removed]",
      "text/plain": [
       "<Figure size 432x288 with 1 Axes>"
      ]
     },
     "metadata": {
      "needs_background": "light"
     },
     "output_type": "display_data"
    }
   ],
   "source": [
    "# Simple line plot of the data\n",
    "df.plot(title='Total Multi-Sector Employment, Seasonally Adjusted (Thousands)')"
   ]
  },
  {
   "cell_type": "markdown",
   "id": "b438e20f",
   "metadata": {},
   "source": [
    "## Employment Data Analysis using Python\n",
    "### 2021 not included because the dataframe could not include Dec of 2021"
   ]
  },
  {
   "cell_type": "code",
   "execution_count": 58,
   "id": "667216b5",
   "metadata": {},
   "outputs": [],
   "source": [
    "# Series stored as a dictionary; \n",
    "series_dict_2 = {'CEU0000000001':'Total nonfarm',\n",
    "               'CEU0500000001':'Total private',\n",
    "               'CEU0600000001':'Goods-producing',\n",
    "               'CEU0700000001':'Service-providing',\n",
    "               'CEU4000000001':'Trade, transportation, and utilities',\n",
    "               'CEU4142000001':'Wholesale trade',\n",
    "               'CEU4200000001':'Retail trade',\n",
    "               'CEU6056150001':'Travel arrangement and reservation services',\n",
    "               'CEU7072250001':'Restaurants and other eating places',\n",
    "               'CEU7071000001':'Arts, entertainment, and recreation',\n",
    "               'CEU6054150001':'Computer systems design and related services',\n",
    "               'CEU6054161001':'Management consulting services'}\n",
    "\n",
    "# Start year and end year\n",
    "dates = ('2018', '2020')\n",
    "\n",
    "# Specify json as content type to return\n",
    "headers = {'Content-type': 'application/json'}\n",
    "\n",
    "# Submit the list of series as data\n",
    "data = json.dumps({\n",
    "    \"seriesid\": list(series_dict.keys()),\n",
    "    \"startyear\": dates[0],\n",
    "    \"endyear\": dates[1]})\n",
    "\n",
    "# Post request for the data\n",
    "p = requests.post(\n",
    "    '{}{}'.format(url, key),\n",
    "    headers=headers,\n",
    "    data=data).json()['Results']['series']"
   ]
  },
  {
   "cell_type": "code",
   "execution_count": 60,
   "id": "4122ea6f",
   "metadata": {},
   "outputs": [
    {
     "data": {
      "text/html": [
       "<div>\n",
       "<style scoped>\n",
       "    .dataframe tbody tr th:only-of-type {\n",
       "        vertical-align: middle;\n",
       "    }\n",
       "\n",
       "    .dataframe tbody tr th {\n",
       "        vertical-align: top;\n",
       "    }\n",
       "\n",
       "    .dataframe thead th {\n",
       "        text-align: right;\n",
       "    }\n",
       "</style>\n",
       "<table border=\"1\" class=\"dataframe\">\n",
       "  <thead>\n",
       "    <tr style=\"text-align: right;\">\n",
       "      <th></th>\n",
       "      <th>Total nonfarm</th>\n",
       "      <th>Total private</th>\n",
       "      <th>Goods-producing</th>\n",
       "      <th>Service-providing</th>\n",
       "      <th>Trade, transportation, and utilities</th>\n",
       "      <th>Wholesale trade</th>\n",
       "      <th>Retail trade</th>\n",
       "      <th>Travel arrangement and reservation services</th>\n",
       "      <th>Restaurants and other eating places</th>\n",
       "      <th>Arts, entertainment, and recreation</th>\n",
       "      <th>Computer systems design and related services</th>\n",
       "      <th>Management consulting services</th>\n",
       "    </tr>\n",
       "  </thead>\n",
       "  <tbody>\n",
       "    <tr>\n",
       "      <th>2020-08-01</th>\n",
       "      <td>140728.0</td>\n",
       "      <td>119704.0</td>\n",
       "      <td>20188.0</td>\n",
       "      <td>120540.0</td>\n",
       "      <td>26452.0</td>\n",
       "      <td>5565.2</td>\n",
       "      <td>14965.5</td>\n",
       "      <td>153.8</td>\n",
       "      <td>9458.9</td>\n",
       "      <td>1837.9</td>\n",
       "      <td>2180.7</td>\n",
       "      <td>1226.7</td>\n",
       "    </tr>\n",
       "    <tr>\n",
       "      <th>2020-09-01</th>\n",
       "      <td>141946.0</td>\n",
       "      <td>120101.0</td>\n",
       "      <td>20154.0</td>\n",
       "      <td>121792.0</td>\n",
       "      <td>26512.0</td>\n",
       "      <td>5575.7</td>\n",
       "      <td>14891.9</td>\n",
       "      <td>152.0</td>\n",
       "      <td>9475.7</td>\n",
       "      <td>1760.1</td>\n",
       "      <td>2162.0</td>\n",
       "      <td>1227.5</td>\n",
       "    </tr>\n",
       "    <tr>\n",
       "      <th>2020-10-01</th>\n",
       "      <td>143568.0</td>\n",
       "      <td>121581.0</td>\n",
       "      <td>20261.0</td>\n",
       "      <td>123307.0</td>\n",
       "      <td>26889.0</td>\n",
       "      <td>5596.4</td>\n",
       "      <td>15131.1</td>\n",
       "      <td>151.2</td>\n",
       "      <td>9628.9</td>\n",
       "      <td>1754.6</td>\n",
       "      <td>2201.7</td>\n",
       "      <td>1253.6</td>\n",
       "    </tr>\n",
       "    <tr>\n",
       "      <th>2020-11-01</th>\n",
       "      <td>144121.0</td>\n",
       "      <td>122128.0</td>\n",
       "      <td>20203.0</td>\n",
       "      <td>123918.0</td>\n",
       "      <td>27520.0</td>\n",
       "      <td>5615.0</td>\n",
       "      <td>15487.9</td>\n",
       "      <td>148.8</td>\n",
       "      <td>9559.3</td>\n",
       "      <td>1698.8</td>\n",
       "      <td>2203.5</td>\n",
       "      <td>1256.7</td>\n",
       "    </tr>\n",
       "    <tr>\n",
       "      <th>2020-12-01</th>\n",
       "      <td>143602.0</td>\n",
       "      <td>121802.0</td>\n",
       "      <td>20165.0</td>\n",
       "      <td>123437.0</td>\n",
       "      <td>27799.0</td>\n",
       "      <td>5632.3</td>\n",
       "      <td>15628.2</td>\n",
       "      <td>145.5</td>\n",
       "      <td>9243.2</td>\n",
       "      <td>1605.6</td>\n",
       "      <td>2204.6</td>\n",
       "      <td>1270.0</td>\n",
       "    </tr>\n",
       "  </tbody>\n",
       "</table>\n",
       "</div>"
      ],
      "text/plain": [
       "            Total nonfarm  Total private  Goods-producing  Service-providing  \\\n",
       "2020-08-01       140728.0       119704.0          20188.0           120540.0   \n",
       "2020-09-01       141946.0       120101.0          20154.0           121792.0   \n",
       "2020-10-01       143568.0       121581.0          20261.0           123307.0   \n",
       "2020-11-01       144121.0       122128.0          20203.0           123918.0   \n",
       "2020-12-01       143602.0       121802.0          20165.0           123437.0   \n",
       "\n",
       "            Trade, transportation, and utilities  Wholesale trade  \\\n",
       "2020-08-01                               26452.0           5565.2   \n",
       "2020-09-01                               26512.0           5575.7   \n",
       "2020-10-01                               26889.0           5596.4   \n",
       "2020-11-01                               27520.0           5615.0   \n",
       "2020-12-01                               27799.0           5632.3   \n",
       "\n",
       "            Retail trade  Travel arrangement and reservation services  \\\n",
       "2020-08-01       14965.5                                        153.8   \n",
       "2020-09-01       14891.9                                        152.0   \n",
       "2020-10-01       15131.1                                        151.2   \n",
       "2020-11-01       15487.9                                        148.8   \n",
       "2020-12-01       15628.2                                        145.5   \n",
       "\n",
       "            Restaurants and other eating places  \\\n",
       "2020-08-01                               9458.9   \n",
       "2020-09-01                               9475.7   \n",
       "2020-10-01                               9628.9   \n",
       "2020-11-01                               9559.3   \n",
       "2020-12-01                               9243.2   \n",
       "\n",
       "            Arts, entertainment, and recreation  \\\n",
       "2020-08-01                               1837.9   \n",
       "2020-09-01                               1760.1   \n",
       "2020-10-01                               1754.6   \n",
       "2020-11-01                               1698.8   \n",
       "2020-12-01                               1605.6   \n",
       "\n",
       "            Computer systems design and related services  \\\n",
       "2020-08-01                                        2180.7   \n",
       "2020-09-01                                        2162.0   \n",
       "2020-10-01                                        2201.7   \n",
       "2020-11-01                                        2203.5   \n",
       "2020-12-01                                        2204.6   \n",
       "\n",
       "            Management consulting services  \n",
       "2020-08-01                          1226.7  \n",
       "2020-09-01                          1227.5  \n",
       "2020-10-01                          1253.6  \n",
       "2020-11-01                          1256.7  \n",
       "2020-12-01                          1270.0  "
      ]
     },
     "execution_count": 60,
     "metadata": {},
     "output_type": "execute_result"
    }
   ],
   "source": [
    "# Date index from first series\n",
    "date_list = [f\"{i['year']}-{i['period'][1:]}-01\" for i in p[0]['data']]\n",
    "\n",
    "# Empty dataframe to fill with values\n",
    "df = pd.DataFrame()\n",
    "\n",
    "# Build a pandas series from the API results, p\n",
    "for s in p:\n",
    "    df[series_dict_2[s['seriesID']]] = pd.Series(\n",
    "        index = pd.to_datetime(date_list),\n",
    "        data = [i['value'] for i in s['data']]\n",
    "        ).astype(float).iloc[::-1]\n",
    "\n",
    "# Show last 5 results\n",
    "df.tail()"
   ]
  },
  {
   "cell_type": "code",
   "execution_count": 61,
   "id": "232188ca",
   "metadata": {},
   "outputs": [
    {
     "data": {
      "text/plain": [
       "<AxesSubplot:title={'center':'Total Multi-Sector Employment, Seasonally Adjusted (Thousands)'}>"
      ]
     },
     "execution_count": 61,
     "metadata": {},
     "output_type": "execute_result"
    },
    {
     "data": {
      "image/png": "[encoded data removed]",
      "text/plain": [
       "<Figure size 432x288 with 1 Axes>"
      ]
     },
     "metadata": {
      "needs_background": "light"
     },
     "output_type": "display_data"
    }
   ],
   "source": [
    "# Simple line plot of the data\n",
    "df.plot(title='Total Multi-Sector Employment, Seasonally Adjusted (Thousands)')"
   ]
  },
  {
   "cell_type": "markdown",
   "id": "0efebc6c",
   "metadata": {},
   "source": []
  },
  {
   "cell_type": "markdown",
   "id": "3896ed2c",
   "metadata": {},
   "source": []
  },
  {
   "cell_type": "markdown",
   "id": "77afd702",
   "metadata": {},
   "source": []
  }
 ],
 "metadata": {
  "kernelspec": {
   "display_name": "Python 3",
   "language": "python",
   "name": "python3"
  },
  "language_info": {
   "codemirror_mode": {
    "name": "ipython",
    "version": 3
   },
   "file_extension": ".py",
   "mimetype": "text/x-python",
   "name": "python",
   "nbconvert_exporter": "python",
   "pygments_lexer": "ipython3",
   "version": "3.8.8"
  }
 },
 "nbformat": 4,
 "nbformat_minor": 5
}
