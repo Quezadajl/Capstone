{
 "cells": [
  {
   "cell_type": "code",
   "execution_count": 1,
   "id": "7867a43a",
   "metadata": {},
   "outputs": [],
   "source": [
    "import requests\n",
    "import json\n",
    "import prettytable\n",
    "import os\n",
    "import pandas as pd\n",
    "import dtale\n",
    "import plotly.express as px \n",
    "import numpy as np\n",
    "import matplotlib.pyplot as plt\n",
    "import seaborn as sns\n",
    "%matplotlib inline\n",
    "import re\n",
    "import time\n",
    "from datetime import datetime\n",
    "import matplotlib.dates as mdates\n",
    "import matplotlib.ticker as ticker\n",
    "from urllib.request import urlopen\n",
    "from bs4 import BeautifulSoup"
   ]
  },
  {
   "cell_type": "code",
   "execution_count": 2,
   "id": "96bdc2dc",
   "metadata": {},
   "outputs": [
    {
     "name": "stdout",
     "output_type": "stream",
     "text": [
      "Status: REQUEST_SUCCEEDED\n"
     ]
    }
   ],
   "source": [
    "#Importing data from bls trial 1\n",
    "url = 'https://api.bls.gov/publicAPI/v1/timeseries/data/CEU0800000003' # using national employment, hours, and earnings series\n",
    "data = requests.get(url).json()\n",
    "print('Status: ' + data['status'])"
   ]
  },
  {
   "cell_type": "code",
   "execution_count": 3,
   "id": "1cb7cc4d",
   "metadata": {},
   "outputs": [
    {
     "name": "stdout",
     "output_type": "stream",
     "text": [
      "dict_keys(['status', 'responseTime', 'message', 'Results'])\n"
     ]
    }
   ],
   "source": [
    "print(data.keys())"
   ]
  },
  {
   "cell_type": "code",
   "execution_count": 4,
   "id": "8f17850c",
   "metadata": {},
   "outputs": [],
   "source": [
    "import requests\n",
    "import json\n",
    "import prettytable\n",
    "headers = {'Content-type': 'application/json'}\n",
    "data = json.dumps({\"seriesid\": ['CEU0800000003','SUUR0000SA0'],\"startyear\":\"2019\", \"endyear\":\"2020\"})\n",
    "p = requests.post('https://api.bls.gov/publicAPI/v2/timeseries/data/', data=data, headers=headers)\n",
    "json_data = json.loads(p.text)\n",
    "for series in json_data['Results']['series']:\n",
    "    x=prettytable.PrettyTable([\"series id\",\"year\",\"period\",\"value\",\"footnotes\"])\n",
    "    seriesId = series['seriesID']\n",
    "    for item in series['data']:\n",
    "        year = item['year']\n",
    "        period = item['period']\n",
    "        value = item['value']\n",
    "        footnotes=\"\"\n",
    "        for footnote in item['footnotes']:\n",
    "            if footnote:\n",
    "                footnotes = footnotes + footnote['text'] + ','\n",
    "        if 'M01' <= period <= 'M12':\n",
    "            x.add_row([seriesId,year,period,value,footnotes[0:-1]])\n",
    "    output = open(seriesId + '.txt','w')\n",
    "    output.write (x.get_string())\n",
    "    output.close()"
   ]
  },
  {
   "cell_type": "code",
   "execution_count": 5,
   "id": "3b605896",
   "metadata": {},
   "outputs": [],
   "source": [
    "# BLS API v1 url\n",
    "base_url = 'https://api.bls.gov/publicAPI/v1/timeseries/data/'"
   ]
  },
  {
   "cell_type": "code",
   "execution_count": 6,
   "id": "af91f972",
   "metadata": {},
   "outputs": [],
   "source": [
    "# BLS series id for the civilian labor force participation rate\n",
    "series = {'id': 'LNS11300000',\n",
    "          'name': 'Labor Force Participation Rate'}"
   ]
  },
  {
   "cell_type": "code",
   "execution_count": 7,
   "id": "48771764",
   "metadata": {},
   "outputs": [
    {
     "name": "stdout",
     "output_type": "stream",
     "text": [
      "https://api.bls.gov/publicAPI/v1/timeseries/data/LNS11300000\n"
     ]
    }
   ],
   "source": [
    "data_url = '{}{}'.format(base_url, series['id'])\n",
    "print(data_url)"
   ]
  },
  {
   "cell_type": "code",
   "execution_count": 8,
   "id": "590cd9a2",
   "metadata": {},
   "outputs": [
    {
     "name": "stdout",
     "output_type": "stream",
     "text": [
      "Status: REQUEST_SUCCEEDED\n"
     ]
    }
   ],
   "source": [
    "r = requests.get(data_url).json()\n",
    "print('Status: ' + r['status'])"
   ]
  },
  {
   "cell_type": "code",
   "execution_count": 9,
   "id": "9c17fcdb",
   "metadata": {},
   "outputs": [
    {
     "name": "stdout",
     "output_type": "stream",
     "text": [
      "dict_keys(['status', 'responseTime', 'message', 'Results'])\n"
     ]
    }
   ],
   "source": [
    "print(r.keys())"
   ]
  },
  {
   "cell_type": "code",
   "execution_count": 10,
   "id": "0acd9f3c",
   "metadata": {},
   "outputs": [
    {
     "name": "stdout",
     "output_type": "stream",
     "text": [
      "{'year': '2021', 'period': 'M11', 'periodName': 'November', 'latest': 'true', 'value': '61.8', 'footnotes': [{}]}\n"
     ]
    }
   ],
   "source": [
    "r = r['Results']['series'][0]['data']\n",
    "print(r[0])"
   ]
  },
  {
   "cell_type": "code",
   "execution_count": 11,
   "id": "f065d36c",
   "metadata": {},
   "outputs": [
    {
     "data": {
      "text/html": [
       "<div>\n",
       "<style scoped>\n",
       "    .dataframe tbody tr th:only-of-type {\n",
       "        vertical-align: middle;\n",
       "    }\n",
       "\n",
       "    .dataframe tbody tr th {\n",
       "        vertical-align: top;\n",
       "    }\n",
       "\n",
       "    .dataframe thead th {\n",
       "        text-align: right;\n",
       "    }\n",
       "</style>\n",
       "<table border=\"1\" class=\"dataframe\">\n",
       "  <thead>\n",
       "    <tr style=\"text-align: right;\">\n",
       "      <th></th>\n",
       "      <th>LNS11300000</th>\n",
       "      <th>footnotes</th>\n",
       "    </tr>\n",
       "  </thead>\n",
       "  <tbody>\n",
       "    <tr>\n",
       "      <th>2019-01-01 00:00:01</th>\n",
       "      <td>63.1</td>\n",
       "      <td>{}</td>\n",
       "    </tr>\n",
       "    <tr>\n",
       "      <th>2019-01-01 00:00:02</th>\n",
       "      <td>63.1</td>\n",
       "      <td>{}</td>\n",
       "    </tr>\n",
       "    <tr>\n",
       "      <th>2019-01-01 00:00:03</th>\n",
       "      <td>63.1</td>\n",
       "      <td>{}</td>\n",
       "    </tr>\n",
       "    <tr>\n",
       "      <th>2019-01-01 00:00:04</th>\n",
       "      <td>62.9</td>\n",
       "      <td>{}</td>\n",
       "    </tr>\n",
       "    <tr>\n",
       "      <th>2019-01-01 00:00:05</th>\n",
       "      <td>62.9</td>\n",
       "      <td>{}</td>\n",
       "    </tr>\n",
       "  </tbody>\n",
       "</table>\n",
       "</div>"
      ],
      "text/plain": [
       "                     LNS11300000 footnotes\n",
       "2019-01-01 00:00:01         63.1        {}\n",
       "2019-01-01 00:00:02         63.1        {}\n",
       "2019-01-01 00:00:03         63.1        {}\n",
       "2019-01-01 00:00:04         62.9        {}\n",
       "2019-01-01 00:00:05         62.9        {}"
      ]
     },
     "execution_count": 11,
     "metadata": {},
     "output_type": "execute_result"
    }
   ],
   "source": [
    "import pandas as pd\n",
    "\n",
    "dates = ['{} {}'.format(i['period'], i['year']) for i in r]\n",
    "index = pd.to_datetime(dates)\n",
    "data = {series['id']: [float(i['value']) for i in r],\n",
    "        'footnotes': [i['footnotes'][0] for i in r]}\n",
    "\n",
    "df = pd.DataFrame(index=index, data=data).iloc[::-1]\n",
    "\n",
    "df.head()"
   ]
  },
  {
   "cell_type": "code",
   "execution_count": 12,
   "id": "4f4c5cc6",
   "metadata": {},
   "outputs": [
    {
     "data": {
      "text/plain": [
       "<AxesSubplot:title={'center':'Labor Force Participation Rate'}>"
      ]
     },
     "execution_count": 12,
     "metadata": {},
     "output_type": "execute_result"
    },
    {
     "data": {
      "image/png": "[encoded data removed]",
      "text/plain": [
       "<Figure size 432x288 with 1 Axes>"
      ]
     },
     "metadata": {
      "needs_background": "light"
     },
     "output_type": "display_data"
    }
   ],
   "source": [
    "%matplotlib inline\n",
    "\n",
    "df['mean'] = df[series['id']].mean()\n",
    "df[[series['id'], 'mean']].plot(title=series['name'])"
   ]
  },
  {
   "cell_type": "markdown",
   "id": "09a30a9c",
   "metadata": {},
   "source": [
    "### BLS trial 2 with API key"
   ]
  },
  {
   "cell_type": "code",
   "execution_count": 13,
   "id": "f11a4ba6",
   "metadata": {},
   "outputs": [],
   "source": [
    "bls_key = os.environ.get('bls_key')"
   ]
  },
  {
   "cell_type": "markdown",
   "id": "f2b37e4a",
   "metadata": {},
   "source": [
    "### Parameters for API key to be used"
   ]
  },
  {
   "cell_type": "code",
   "execution_count": 14,
   "id": "bc75ee60",
   "metadata": {},
   "outputs": [],
   "source": [
    "#api key has been saved in the environment\n",
    "\n",
    "\n",
    "# The url for BLS API v2\n",
    "url = 'https://api.bls.gov/publicAPI/v2/timeseries/data/'\n",
    "\n",
    "# API key in config.py which contains: bls_key = 'key'\n",
    "key = '?registrationkey={}'.format(bls_key)\n",
    "\n",
    "# Series stored as a dictionary\n",
    "series_dict = {\n",
    "    'LNS14000003': 'White',\n",
    "    'LNS14000006': 'Black',\n",
    "    'LNS14000009': 'Hispanic'}\n",
    "\n",
    "# Start year and end year\n",
    "dates = ('2018', '2021')"
   ]
  },
  {
   "cell_type": "markdown",
   "id": "f4a29b6e",
   "metadata": {},
   "source": [
    "### Post request for the data\n",
    "This examples is more complex as the request includes some additional information. Previously we used a get request, but if we want to submit data to be processed by the API we need to use a post request.\n",
    "\n",
    "The json package will help to put our series and year parameters in the format readable by the BLS API. The headers and data sent with our request contain these parameters.\n"
   ]
  },
  {
   "cell_type": "code",
   "execution_count": 15,
   "id": "1d3c2cbb",
   "metadata": {},
   "outputs": [],
   "source": [
    "import json\n",
    "\n",
    "# Specify json as content type to return\n",
    "headers = {'Content-type': 'application/json'}\n",
    "\n",
    "# Submit the list of series as data\n",
    "data = json.dumps({\n",
    "    \"seriesid\": list(series_dict.keys()),\n",
    "    \"startyear\": dates[0],\n",
    "    \"endyear\": dates[1]})\n",
    "\n",
    "# Post request for the data\n",
    "p = requests.post(\n",
    "    '{}{}'.format(url, key),\n",
    "    headers=headers,\n",
    "    data=data).json()['Results']['series']"
   ]
  },
  {
   "cell_type": "markdown",
   "id": "abb76588",
   "metadata": {},
   "source": [
    "### Loop through series and convert to pandas format\n",
    "Since the API returns data in a uniform way, a for loop can be used to apply formatting or other changes to all series in the returned json data. In the example below, all three series are converted to pandas series with a datetime index and the values converted to floats."
   ]
  },
  {
   "cell_type": "code",
   "execution_count": 20,
   "id": "191aa3ed",
   "metadata": {},
   "outputs": [
    {
     "data": {
      "text/html": [
       "<div>\n",
       "<style scoped>\n",
       "    .dataframe tbody tr th:only-of-type {\n",
       "        vertical-align: middle;\n",
       "    }\n",
       "\n",
       "    .dataframe tbody tr th {\n",
       "        vertical-align: top;\n",
       "    }\n",
       "\n",
       "    .dataframe thead th {\n",
       "        text-align: right;\n",
       "    }\n",
       "</style>\n",
       "<table border=\"1\" class=\"dataframe\">\n",
       "  <thead>\n",
       "    <tr style=\"text-align: right;\">\n",
       "      <th></th>\n",
       "      <th>White</th>\n",
       "      <th>Black</th>\n",
       "      <th>Hispanic</th>\n",
       "    </tr>\n",
       "  </thead>\n",
       "  <tbody>\n",
       "    <tr>\n",
       "      <th>2021-07-01</th>\n",
       "      <td>4.8</td>\n",
       "      <td>8.2</td>\n",
       "      <td>6.6</td>\n",
       "    </tr>\n",
       "    <tr>\n",
       "      <th>2021-08-01</th>\n",
       "      <td>4.5</td>\n",
       "      <td>8.8</td>\n",
       "      <td>6.4</td>\n",
       "    </tr>\n",
       "    <tr>\n",
       "      <th>2021-09-01</th>\n",
       "      <td>4.2</td>\n",
       "      <td>7.9</td>\n",
       "      <td>6.3</td>\n",
       "    </tr>\n",
       "    <tr>\n",
       "      <th>2021-10-01</th>\n",
       "      <td>4.0</td>\n",
       "      <td>7.9</td>\n",
       "      <td>5.9</td>\n",
       "    </tr>\n",
       "    <tr>\n",
       "      <th>2021-11-01</th>\n",
       "      <td>3.7</td>\n",
       "      <td>6.7</td>\n",
       "      <td>5.2</td>\n",
       "    </tr>\n",
       "  </tbody>\n",
       "</table>\n",
       "</div>"
      ],
      "text/plain": [
       "            White  Black  Hispanic\n",
       "2021-07-01    4.8    8.2       6.6\n",
       "2021-08-01    4.5    8.8       6.4\n",
       "2021-09-01    4.2    7.9       6.3\n",
       "2021-10-01    4.0    7.9       5.9\n",
       "2021-11-01    3.7    6.7       5.2"
      ]
     },
     "execution_count": 20,
     "metadata": {},
     "output_type": "execute_result"
    }
   ],
   "source": [
    "# Date index from first series\n",
    "date_list = [f\"{i['year']}-{i['period'][1:]}-01\" for i in p[0]['data']]\n",
    "\n",
    "# Empty dataframe to fill with values\n",
    "df = pd.DataFrame()\n",
    "\n",
    "# Build a pandas series from the API results, p\n",
    "for s in p:\n",
    "    df[series_dict[s['seriesID']]] = pd.Series(\n",
    "        index = pd.to_datetime(date_list),\n",
    "        data = [i['value'] for i in s['data']]\n",
    "        ).astype(float).iloc[::-1]\n",
    "\n",
    "# Show last 5 results\n",
    "df.tail()"
   ]
  },
  {
   "cell_type": "markdown",
   "id": "cfde3697",
   "metadata": {},
   "source": [
    "### Plot the results\n",
    "The series are plotted below to show how they compare."
   ]
  },
  {
   "cell_type": "code",
   "execution_count": 17,
   "id": "f1c2a303",
   "metadata": {},
   "outputs": [
    {
     "data": {
      "text/plain": [
       "<AxesSubplot:title={'center':'Unemployment Rates by Race or Origin'}>"
      ]
     },
     "execution_count": 17,
     "metadata": {},
     "output_type": "execute_result"
    },
    {
     "data": {
      "image/png": "[encoded data removed]",
      "text/plain": [
       "<Figure size 432x288 with 1 Axes>"
      ]
     },
     "metadata": {
      "needs_background": "light"
     },
     "output_type": "display_data"
    }
   ],
   "source": [
    "# Simple line plot of the data\n",
    "df.plot(title='Unemployment Rates by Race or Origin')"
   ]
  },
  {
   "cell_type": "code",
   "execution_count": null,
   "id": "26bffe95",
   "metadata": {},
   "outputs": [],
   "source": []
  }
 ],
 "metadata": {
  "kernelspec": {
   "display_name": "Python 3",
   "language": "python",
   "name": "python3"
  },
  "language_info": {
   "codemirror_mode": {
    "name": "ipython",
    "version": 3
   },
   "file_extension": ".py",
   "mimetype": "text/x-python",
   "name": "python",
   "nbconvert_exporter": "python",
   "pygments_lexer": "ipython3",
   "version": "3.8.8"
  }
 },
 "nbformat": 4,
 "nbformat_minor": 5
}
